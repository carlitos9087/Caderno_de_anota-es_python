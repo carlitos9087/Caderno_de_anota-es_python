{
 "cells": [
  {
   "cell_type": "code",
   "execution_count": 3,
   "metadata": {},
   "outputs": [
    {
     "name": "stdout",
     "output_type": "stream",
     "text": [
      "50\n"
     ]
    }
   ],
   "source": [
    "import os\n",
    "import pandas as pd\n",
    "\n",
    "dados = '/home/carlitos/Documentos/Caderno_de_anotacoes_python/control_non-infected/teste/arquivos'\n",
    "df= []\n",
    "\n",
    "for num, pasta in enumerate(os.listdir(dados)):\n",
    "    if pasta.endswith(\".csv\"):\n",
    "        \n",
    "        #with open(f\"/home/carlitos/Documentos/Caderno_de_anotacoes_python/control_non-infected/GSE162760/{pasta}\",'w') as myfiles:\n",
    "            #myfiles.write()\n",
    "        #print(f'carregando {pasta}...')\n",
    "        df.append(pd.read_csv(os.path.join(dados, pasta))) \n",
    "        #print(df[num].replace(\"\\t\", \",\", regex=True))\n",
    "        \n",
    "    \n",
    "    \n",
    "\n",
    "print(len(df))\n",
    "\n",
    "#df_master = pd.concat(df, axis=0,ignore_index=True)\n",
    "#df_master.to_csv('./uniao.csv', index=False)"
   ]
  },
  {
   "cell_type": "code",
   "execution_count": 5,
   "metadata": {
    "scrolled": true
   },
   "outputs": [
    {
     "name": "stdout",
     "output_type": "stream",
     "text": [
      "\n"
     ]
    }
   ],
   "source": [
    "b= [df[i] for i in range(0,len(df))] \n",
    "print()"
   ]
  },
  {
   "cell_type": "code",
   "execution_count": 2,
   "metadata": {},
   "outputs": [],
   "source": [
    "for n in range(0,len(df)):\n",
    "    df[n].set_index('Geneid', inplace=True)"
   ]
  },
  {
   "cell_type": "code",
   "execution_count": 62,
   "metadata": {},
   "outputs": [
    {
     "data": {
      "text/plain": [
       "[['HISAT2 on data 23: aligned reads (BAM)'],\n",
       " ['HISAT2 on data 124: aligned reads (BAM)'],\n",
       " ['HISAT2 on data 6: aligned reads (BAM)'],\n",
       " ['HISAT2 on data 32: aligned reads (BAM)'],\n",
       " ['HISAT2 on data 120: aligned reads (BAM)'],\n",
       " ['HISAT2 on data 60: aligned reads (BAM)'],\n",
       " ['HISAT2 on data 22: aligned reads (BAM)'],\n",
       " ['HISAT2 on data 122: aligned reads (BAM)'],\n",
       " ['HISAT2 on data 8: aligned reads (BAM)'],\n",
       " ['HISAT2 on data 7: aligned reads (BAM)'],\n",
       " ['HISAT2 on data 33: aligned reads (BAM)'],\n",
       " ['HISAT2 on data 66: aligned reads (BAM)'],\n",
       " ['HISAT2 on data 59: aligned reads (BAM)'],\n",
       " ['HISAT2 on data 67: aligned reads (BAM)'],\n",
       " ['HISAT2 on data 24: aligned reads (BAM)'],\n",
       " ['HISAT2 on data 25: aligned reads (BAM)'],\n",
       " ['HISAT2 on data 65: aligned reads (BAM)'],\n",
       " ['HISAT2 on data 31: aligned reads (BAM)'],\n",
       " ['HISAT2 on data 10: aligned reads (BAM)'],\n",
       " ['HISAT2 on data 61: aligned reads (BAM)'],\n",
       " ['HISAT2 on data 70: aligned reads (BAM)'],\n",
       " ['HISAT2 on data 9: aligned reads (BAM)'],\n",
       " ['HISAT2 on data 8: aligned reads (BAM)'],\n",
       " ['HISAT2 on data 105: aligned reads (BAM)'],\n",
       " ['HISAT2 on data 68: aligned reads (BAM)'],\n",
       " ['HISAT2 on data 32: aligned reads (BAM)'],\n",
       " ['HISAT2 on data 58: aligned reads (BAM)'],\n",
       " ['HISAT2 on data 60: aligned reads (BAM)'],\n",
       " ['HISAT2 on data 61: aligned reads (BAM)'],\n",
       " ['HISAT2 on data 53: aligned reads (BAM)'],\n",
       " ['HISAT2 on data 28: aligned reads (BAM)'],\n",
       " ['HISAT2 on data 21: aligned reads (BAM)'],\n",
       " ['HISAT2 on data 35: aligned reads (BAM)'],\n",
       " ['HISAT2 on data 26: aligned reads (BAM)'],\n",
       " ['HISAT2 on data 64: aligned reads (BAM)'],\n",
       " ['HISAT2 on data 33: aligned reads (BAM)'],\n",
       " ['HISAT2 on data 63: aligned reads (BAM)'],\n",
       " ['HISAT2 on data 7: aligned reads (BAM)'],\n",
       " ['HISAT2 on data 121: aligned reads (BAM)'],\n",
       " ['HISAT2 on data 6: aligned reads (BAM)'],\n",
       " ['HISAT2 on data 34: aligned reads (BAM)'],\n",
       " ['HISAT2 on data 20: aligned reads (BAM)'],\n",
       " ['HISAT2 on data 62: aligned reads (BAM)'],\n",
       " ['HISAT2 on data 57: aligned reads (BAM)'],\n",
       " ['HISAT2 on data 31: aligned reads (BAM)'],\n",
       " ['HISAT2 on data 62: aligned reads (BAM)'],\n",
       " ['HISAT2 on data 34: aligned reads (BAM)'],\n",
       " ['HISAT2 on data 123: aligned reads (BAM)'],\n",
       " ['HISAT2 on data 69: aligned reads (BAM)'],\n",
       " ['HISAT2 on data 119: aligned reads (BAM)']]"
      ]
     },
     "execution_count": 62,
     "metadata": {},
     "output_type": "execute_result"
    }
   ],
   "source": [
    "lista_col= []\n",
    "lista_col=[[index.columns[0]] for index in df]\n",
    "lista_col"
   ]
  },
  {
   "cell_type": "code",
   "execution_count": 79,
   "metadata": {},
   "outputs": [
    {
     "data": {
      "text/html": [
       "<div>\n",
       "<style scoped>\n",
       "    .dataframe tbody tr th:only-of-type {\n",
       "        vertical-align: middle;\n",
       "    }\n",
       "\n",
       "    .dataframe tbody tr th {\n",
       "        vertical-align: top;\n",
       "    }\n",
       "\n",
       "    .dataframe thead th {\n",
       "        text-align: right;\n",
       "    }\n",
       "</style>\n",
       "<table border=\"1\" class=\"dataframe\">\n",
       "  <thead>\n",
       "    <tr style=\"text-align: right;\">\n",
       "      <th></th>\n",
       "      <th>HISAT2 on data 23: aligned reads (BAM)</th>\n",
       "      <th>HISAT2 on data 6: aligned reads (BAM)</th>\n",
       "    </tr>\n",
       "    <tr>\n",
       "      <th>Geneid</th>\n",
       "      <th></th>\n",
       "      <th></th>\n",
       "    </tr>\n",
       "  </thead>\n",
       "  <tbody>\n",
       "    <tr>\n",
       "      <th>100287102</th>\n",
       "      <td>0</td>\n",
       "      <td>0</td>\n",
       "    </tr>\n",
       "    <tr>\n",
       "      <th>653635</th>\n",
       "      <td>1</td>\n",
       "      <td>4</td>\n",
       "    </tr>\n",
       "    <tr>\n",
       "      <th>102466751</th>\n",
       "      <td>1</td>\n",
       "      <td>0</td>\n",
       "    </tr>\n",
       "    <tr>\n",
       "      <th>100302278</th>\n",
       "      <td>0</td>\n",
       "      <td>0</td>\n",
       "    </tr>\n",
       "    <tr>\n",
       "      <th>645520</th>\n",
       "      <td>0</td>\n",
       "      <td>0</td>\n",
       "    </tr>\n",
       "    <tr>\n",
       "      <th>...</th>\n",
       "      <td>...</td>\n",
       "      <td>...</td>\n",
       "    </tr>\n",
       "    <tr>\n",
       "      <th>105379557</th>\n",
       "      <td>0</td>\n",
       "      <td>0</td>\n",
       "    </tr>\n",
       "    <tr>\n",
       "      <th>105379559</th>\n",
       "      <td>0</td>\n",
       "      <td>0</td>\n",
       "    </tr>\n",
       "    <tr>\n",
       "      <th>105379561</th>\n",
       "      <td>0</td>\n",
       "      <td>0</td>\n",
       "    </tr>\n",
       "    <tr>\n",
       "      <th>102723822</th>\n",
       "      <td>0</td>\n",
       "      <td>0</td>\n",
       "    </tr>\n",
       "    <tr>\n",
       "      <th>102723891</th>\n",
       "      <td>0</td>\n",
       "      <td>0</td>\n",
       "    </tr>\n",
       "  </tbody>\n",
       "</table>\n",
       "<p>28395 rows × 2 columns</p>\n",
       "</div>"
      ],
      "text/plain": [
       "           HISAT2 on data 23: aligned reads (BAM)  \\\n",
       "Geneid                                              \n",
       "100287102                                       0   \n",
       "653635                                          1   \n",
       "102466751                                       1   \n",
       "100302278                                       0   \n",
       "645520                                          0   \n",
       "...                                           ...   \n",
       "105379557                                       0   \n",
       "105379559                                       0   \n",
       "105379561                                       0   \n",
       "102723822                                       0   \n",
       "102723891                                       0   \n",
       "\n",
       "           HISAT2 on data 6: aligned reads (BAM)  \n",
       "Geneid                                            \n",
       "100287102                                      0  \n",
       "653635                                         4  \n",
       "102466751                                      0  \n",
       "100302278                                      0  \n",
       "645520                                         0  \n",
       "...                                          ...  \n",
       "105379557                                      0  \n",
       "105379559                                      0  \n",
       "105379561                                      0  \n",
       "102723822                                      0  \n",
       "102723891                                      0  \n",
       "\n",
       "[28395 rows x 2 columns]"
      ]
     },
     "execution_count": 79,
     "metadata": {},
     "output_type": "execute_result"
    },
    {
     "ename": "",
     "evalue": "",
     "output_type": "error",
     "traceback": [
      "\u001b[1;31mThe Kernel crashed while executing code in the the current cell or a previous cell. Please review the code in the cell(s) to identify a possible cause of the failure. Click <a href='https://aka.ms/vscodeJupyterKernelCrash'>here</a> for more info. View Jupyter <a href='command:jupyter.viewOutput'>log</a> for further details."
     ]
    }
   ],
   "source": [
    "aa= pd.merge(df[0], df[2], on='Geneid')\n",
    "aa\n",
    "#a=(aa.columns)\n",
    "#print(a)\n"
   ]
  }
 ],
 "metadata": {
  "kernelspec": {
   "display_name": "Python 3 (ipykernel)",
   "language": "python",
   "name": "python3"
  },
  "language_info": {
   "codemirror_mode": {
    "name": "ipython",
    "version": 3
   },
   "file_extension": ".py",
   "mimetype": "text/x-python",
   "name": "python",
   "nbconvert_exporter": "python",
   "pygments_lexer": "ipython3",
   "version": "3.10.6"
  },
  "vscode": {
   "interpreter": {
    "hash": "916dbcbb3f70747c44a77c7bcd40155683ae19c65e1c03b4aa3499c5328201f1"
   }
  }
 },
 "nbformat": 4,
 "nbformat_minor": 2
}
