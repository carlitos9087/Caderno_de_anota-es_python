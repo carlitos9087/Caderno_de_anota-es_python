{
 "cells": [
  {
   "cell_type": "code",
   "execution_count": null,
   "metadata": {},
   "outputs": [],
   "source": [
    "import os\n",
    "import pandas as pd\n",
    "nomes=[]\n",
    "nomes2=[]\n",
    "\n",
    "control=[]\n",
    "infected=[]\n",
    "dados = '/home/carlitos/Documentos/Caderno_de_anotacoes_python/control_non-infected/teste/arquivos'\n",
    "df= []\n",
    "\n",
    "for num, pasta in enumerate(os.listdir(dados)):\n",
    "    if pasta.endswith(\".csv\"):\n",
    "\n",
    "        if pasta.startswith(\"Con\"):\n",
    "            control.append(pd.read_csv(os.path.join(dados, pasta)))\n",
    "            nomes.append(pasta)\n",
    "\n",
    "            \n",
    "        else:\n",
    "            infected.append(pd.read_csv(os.path.join(dados, pasta)))\n",
    "            nomes2.append(pasta)\n",
    "\n",
    "        \n",
    "        df.append(pd.read_csv(os.path.join(dados, pasta))) \n",
    "        #print(df[num].replace(\"\\t\", \",\", regex=True))\n",
    "        \n",
    "    \n",
    "    \n",
    "print(os.path.join(dados, pasta))\n",
    "print(len(df))\n",
    "print(len(control), len(infected))\n",
    "#df_master = pd.concat(df, axis=0,ignore_index=True)\n",
    "#df_master.to_csv('./uniao.csv', index=False)\n",
    "\n",
    "pd.set_option(\"display.max_columns\", None)"
   ]
  },
  {
   "cell_type": "code",
   "execution_count": null,
   "metadata": {},
   "outputs": [],
   "source": [
    "for n in range(0,len(df)):\n",
    "    df[n].set_index('Geneid', inplace=True)"
   ]
  },
  {
   "cell_type": "code",
   "execution_count": null,
   "metadata": {},
   "outputs": [],
   "source": [
    "lista_col= []\n",
    "lista_col=[[index.columns[0]] for index in df]\n",
    "lista_col"
   ]
  },
  {
   "cell_type": "code",
   "execution_count": null,
   "metadata": {
    "scrolled": false
   },
   "outputs": [],
   "source": [
    "df_final= pd.merge(df[0], df[1], on=\"Geneid\")\n",
    "for i in range(2,len(df)):\n",
    "          df_final= pd.merge(df_final, df[i], on=\"Geneid\")"
   ]
  },
  {
   "cell_type": "code",
   "execution_count": null,
   "metadata": {
    "scrolled": false
   },
   "outputs": [],
   "source": [
    "df_final.head()"
   ]
  },
  {
   "cell_type": "code",
   "execution_count": null,
   "metadata": {},
   "outputs": [],
   "source": [
    "aaa=df_final.loc[[8520, 2648, 8850, 10524, 7994, 23522, 11143, 84148, 9329, 1387, 79969, 2033, 3065, 3066, 8841, 9759, 10014, 10013, 51564, 55869, 9734, 83933, 23411, 22933, 23410, 23409, 23408, 51548, 51547],[\"HISAT2 on data 9: aligned reads (BAM)\"]]\n",
    "aaa"
   ]
  },
  {
   "cell_type": "code",
   "execution_count": null,
   "metadata": {},
   "outputs": [],
   "source": [
    "a=(\"\"\"8520\n",
    "2648\n",
    "8850\n",
    "10524\n",
    "7994\n",
    "23522\n",
    "11143\n",
    "84148\n",
    "9329\n",
    "1387\n",
    "79969summer17.xlsx\",\"list\n",
    "2033\n",
    "3065\n",
    "3066\n",
    "8841\n",
    "9759\n",
    "10014\n",
    "10013\n",
    "51564\n",
    "55869\n",
    "9734\n",
    "83933\n",
    "23411\n",
    "22933\n",
    "23410\n",
    "23409\n",
    "23408\n",
    "51548\n",
    "51547\"\"\".split())\n",
    "b=[]\n",
    "for i in a:\n",
    "    b.append(int(i))\n",
    "print(b, sep=\"\")"
   ]
  },
  {
   "cell_type": "code",
   "execution_count": null,
   "metadata": {},
   "outputs": [],
   "source": [
    "\n",
    "    \n",
    "df_infected= pd.merge(infected[0], infected[1], on=\"Geneid\")\n",
    "for i in range(2,len(infected)):\n",
    "          df_infected= pd.merge(df_infected, infected[i], on=\"Geneid\")\n"
   ]
  },
  {
   "cell_type": "code",
   "execution_count": null,
   "metadata": {},
   "outputs": [],
   "source": [
    "for n in range(0,len(infected)):\n",
    "    infected[n].set_index('Geneid', inplace=True)"
   ]
  },
  {
   "cell_type": "code",
   "execution_count": null,
   "metadata": {},
   "outputs": [],
   "source": [
    "aaa\n"
   ]
  },
  {
   "cell_type": "code",
   "execution_count": null,
   "metadata": {},
   "outputs": [],
   "source": []
  },
  {
   "cell_type": "code",
   "execution_count": null,
   "metadata": {},
   "outputs": [],
   "source": []
  }
 ],
 "metadata": {
  "kernelspec": {
   "display_name": "Python 3 (ipykernel)",
   "language": "python",
   "name": "python3"
  },
  "language_info": {
   "codemirror_mode": {
    "name": "ipython",
    "version": 3
   },
   "file_extension": ".py",
   "mimetype": "text/x-python",
   "name": "python",
   "nbconvert_exporter": "python",
   "pygments_lexer": "ipython3",
   "version": "3.10.6 (main, Nov 14 2022, 16:10:14) [GCC 11.3.0]"
  },
  "vscode": {
   "interpreter": {
    "hash": "916dbcbb3f70747c44a77c7bcd40155683ae19c65e1c03b4aa3499c5328201f1"
   }
  }
 },
 "nbformat": 4,
 "nbformat_minor": 2
}
