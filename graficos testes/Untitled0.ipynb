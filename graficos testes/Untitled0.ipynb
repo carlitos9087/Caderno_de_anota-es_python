{
  "nbformat": 4,
  "nbformat_minor": 0,
  "metadata": {
    "colab": {
      "provenance": []
    },
    "kernelspec": {
      "name": "python3",
      "display_name": "Python 3"
    },
    "language_info": {
      "name": "python"
    }
  },
  "cells": [
    {
      "cell_type": "code",
      "execution_count": null,
      "metadata": {
        "id": "YiWboEh4UETJ"
      },
      "outputs": [],
      "source": [
        "import numpy as np\n",
        "import matplotlib\n",
        "import matplotlib as mpl\n",
        "import matplotlib.pyplot as plt\n",
        "import seaborn as sns\n",
        "import pandas as pd\n",
        "\n",
        "\n",
        "a=pd.DataFrame([[42.98, 46.61],\n",
        "[43.86, 46.43],\n",
        "[44.74, 46.82],\n",
        "[43.42, 46.43],\n",
        "[45.18, 44.84],\n",
        "[43.42, 45.98],\n",
        "[43.42, 46.43],\n",
        "[42.54, 45.98],\n",
        "[43.86, 46.43],\n",
        "[44.30, 46.36],\n",
        "[43.86, 47.32],\n",
        "[42.98, 46.61],\n",
        "[43.42, 45.98]], index=[\"L. aethiopica\", \"L. amazonensis\", \"L. brasiliensis\",\n",
        "                        \"L. donovani\", \"L. enriettii\", \"L. gerbilli\", \"L. infantum\",\n",
        "                        \"L. major Friendlin\", \"L. mexicana\", \"L. panamensis\", \"L. tarentolae\",\n",
        "                        \"L. tropica\", \"L. turanica\"], columns=['S. cerevisiae',\t'Human'])\n",
        "fig, ax = plt.subplots(figsize=(3, 6)) #x y\n",
        "\n",
        "#b=sns.heatmap(a, annot=True, fmt=\".2f\")\n",
        "h = sns.heatmap(a, annot=True, fmt=\".2f\", cmap=\"crest\")\n",
        "plt.title('GNAT')\n",
        "#h.set(xlabel=\"fdsf\", ylabel=\"\")\n",
        "h.xaxis.tick_top()\n",
        "ax.set_yticklabels(ax.get_yticklabels(), rotation=0, horizontalalignment='right')\n",
        "plt.savefig('teste.png', dpi=400, format='png', bbox_inches='tight', pad_inches=0.2, bbox=None, pad=None, dashes=None, loc='upper left', rot=0, vmax='I', vmin='I', hmax='I', hmin='I')\n",
        "#figure = h.get_figure()\n",
        "#figure.savefig( 'heatmap.png', dpi=400)\n",
        "\n"
      ]
    },
    {
      "cell_type": "code",
      "source": [
        "import numpy as np\n",
        "import matplotlib\n",
        "import matplotlib as mpl\n",
        "import matplotlib.pyplot as plt\n",
        "import seaborn as sns\n",
        "import pandas as pd\n",
        "\n",
        "\n",
        "a=pd.DataFrame([[55.73,60.42],\n",
        "[55.73,59.90],\n",
        "[54.69,59.38],\n",
        "[55.73,60.94],\n",
        "[54.69,58.85],\n",
        "[55.21,59.38],\n",
        "[55.73,60.94],\n",
        "[55.21,59.38],\n",
        "[55.73,59.90],\n",
        "[54.69,59.38],\n",
        "[55.21,59.90],\n",
        "[55.73,60.42],\n",
        "[55.21,59.38]], index=[\"L. aethiopica\",\"L. amazonensis\",\"L. brasiliensis\",\"L. donovani\",\"L. enriettii\",\"L. gerbilli\",\"L. infantum\",\"L. major Friendlin\",\"L. mexicana\",\"L. panamensis\",\"L. tarentolae\",\"L. tropica\",\"L. turanica\"], columns=[\"S. cerevisiae\",\t\"Human\"])\n",
        "fig, ax = plt.subplots(figsize=(3, 6)) #x y\n",
        "\n",
        "#b=sns.heatmap(a, annot=True, fmt=\".2f\")\n",
        "h = sns.heatmap(a, annot=True, fmt=\".2f\", cmap=\"Greens\", vmin=52, vmax=61)\n",
        "plt.title('Helicase')\n",
        "#h.set(xlabel=\"fdsf\", ylabel=\"\")\n",
        "h.xaxis.tick_top()\n",
        "ax.set_yticklabels(ax.get_yticklabels(), rotation=0, horizontalalignment='right')\n",
        "plt.savefig('teste2.png', dpi=400, format='png', bbox_inches='tight', pad_inches=0.2, bbox=None, pad=None, dashes=None, loc='upper left', rot=0, vmax='I', vmin='I', hmax='I', hmin='I')\n",
        "#figure = h.get_figure()\n",
        "#figure.savefig( 'heatmap.png', dpi=400)\n",
        "\n",
        "\n"
      ],
      "metadata": {
        "id": "8jnJw3xjZ8ep"
      },
      "execution_count": null,
      "outputs": []
    },
    {
      "cell_type": "code",
      "source": [
        "import numpy as np\n",
        "import matplotlib\n",
        "import matplotlib as mpl\n",
        "import matplotlib.pyplot as plt\n",
        "import seaborn as sns\n",
        "import pandas as pd\n",
        "\n",
        "\n",
        "a = pd.DataFrame(np.array([[36.7, 38.4],\n",
        "                             [36.4, 39.2],\n",
        "                             [35.8, 38.6],\n",
        "                             [36.6, 39.6],\n",
        "                             [36.2, 39.4],\n",
        "                             [36.2, 39.4],\n",
        "                             [36.1, 39.5],\n",
        "                             [36.0, 39.4],\n",
        "                             [36.0, 39.5],\n",
        "                             [36.3, 39.2],\n",
        "                             [36.3, 39.2],\n",
        "                             [36.3, 39.5],\n",
        "                             [36.4, 39.5]]),columns=['Saccharomyces_cerevisiae',\t'Human'], index=[\"L.enriettii\",\"L.braziliensis M2903\",\"L.panamensis\",\"L.tarentolae\",\"L.amazonensis\",\"L.mexicana\",\"L.donovani\",\"L.infantum JPCM5\",\"L.major Friendlin\",\"L.gerbilli\",\"L.turanica\",\"L.aethiopica \",\"L.tropica\"])\n",
        "fig, ax = plt.subplots(figsize=(5, 8)) #x y\n",
        "#b=sns.heatmap(a, annot=True, fmt=\".2f\")\n",
        "h = sns.heatmap(a, annot=True, fmt=\".2f\", vmin=33, vmax=40,cmap=\"ocean\")#####################\n",
        "plt.title('NAT10')\n",
        "h.xaxis.tick_top()\n",
        "ax.set_yticklabels(ax.get_yticklabels(), rotation=0, horizontalalignment='right')\n",
        "plt.savefig('teste3.png', dpi=400, format='png', bbox_inches='tight', pad_inches=0.2, bbox=None, pad=None, dashes=None, loc='upper left', rot=0, vmax='I', vmin='I', hmax='I', hmin='I')"
      ],
      "metadata": {
        "id": "q3sh-tBEhhlz"
      },
      "execution_count": null,
      "outputs": []
    },
    {
      "cell_type": "code",
      "source": [
        "import numpy as np\n",
        "import matplotlib\n",
        "import matplotlib as mpl\n",
        "import matplotlib.pyplot as plt\n",
        "import seaborn as sns\n",
        "import pandas as pd\n",
        "\n",
        "\n",
        "a = pd.DataFrame(np.array([[29.01, 24.68],\n",
        "[27.04, 25.53],\n",
        "[29.37, 26.97],\n",
        "[30.57, 26.17],\n",
        "[30.82, 24.5],\n",
        "[29.63, 24.68],\n",
        "[30.57, 26.17],\n",
        "[29.3, 25.5],\n",
        "[28.57, 24.53],\n",
        "[29.37, 26.97],\n",
        "[30.91, 24.84],\n",
        "[28.14, 24.05],\n",
        "[30.06, 24.52]]),columns=[\"S. cerevisiae\",\t\"Human\"], \n",
        "                             index=[\"L. aethiopica\",\"L. amazonensis\",\"L. brasiliensis\",\"L. donovani\",\"L. enriettii\",\"L. gerbilli\",\"L. infantum\",\"L. major Friendlin\",\"L. mexicana\",\"L. panamensis\",\"L. tarentolae\",\"L. tropica\",\"L. turanica\"])\n",
        "fig, ax = plt.subplots(figsize=(3, 6)) #x y\n",
        "#b=sns.heatmap(a, annot=True, fmt=\".2f\")\n",
        "h = sns.heatmap(a, annot=True, fmt=\".2f\", vmin=22, vmax=32,cmap=\"OrRd\")#####################\n",
        "plt.title('tRNA')\n",
        "h.xaxis.tick_top()\n",
        "ax.set_yticklabels(ax.get_yticklabels(), rotation=0, horizontalalignment='right')\n",
        "plt.savefig('teste4.png', dpi=400, format='png', bbox_inches='tight', pad_inches=0.2, bbox=None, pad=None, dashes=None, loc='upper left', rot=0, vmax='I', vmin='I', hmax='I', hmin='I')"
      ],
      "metadata": {
        "id": "fG8oCrAVmr1a"
      },
      "execution_count": null,
      "outputs": []
    },
    {
      "cell_type": "code",
      "source": [
        "import numpy as np\n",
        "import matplotlib\n",
        "import matplotlib as mpl\n",
        "import matplotlib.pyplot as plt\n",
        "import seaborn as sns\n",
        "import pandas as pd\n",
        "\n",
        "\n",
        "a = pd.DataFrame(np.array([[46.11, 54.4],\n",
        "[45.6, 53.37],\n",
        "[44.56, 53.89],\n",
        "[45.6, 53.37],\n",
        "[46.11, 54.4],\n",
        "[45.6, 53.89],\n",
        "[45.08, 52.85],\n",
        "[46.11, 54.4],\n",
        "[45.6, 53.37],\n",
        "[44.56, 53.89],\n",
        "[44.56, 53.89],\n",
        "[46.11, 54.4],\n",
        "[45.6, 53.89]]),columns=[\"S. cerevisiae\",\t\"Human\"], \n",
        "                             index=[\"L. aethiopica\",\"L. amazonensis\",\"L. brasiliensis\",\"L. donovani\",\"L. enriettii\",\"L. gerbilli\",\"L. infantum\",\"L. major Friendlin\",\"L. mexicana\",\"L. panamensis\",\"L. tarentolae\",\"L. tropica\",\"L. turanica\"])\n",
        "fig, ax = plt.subplots(figsize=(3, 6)) #x y\n",
        "#b=sns.heatmap(a, annot=True, fmt=\".2f\")\n",
        "h = sns.heatmap(a, annot=True, fmt=\".2f\", vmin=40, vmax=55,cmap=\"PuRd\")#####################\n",
        "plt.title('Tmca')\n",
        "h.xaxis.tick_top()\n",
        "ax.set_yticklabels(ax.get_yticklabels(), rotation=0, horizontalalignment='right')\n",
        "plt.savefig('teste5.png', dpi=400, format='png', bbox_inches='tight', pad_inches=0.2, bbox=None, pad=None, dashes=None, loc='upper left', rot=0, vmax='I', vmin='I', hmax='I', hmin='I')"
      ],
      "metadata": {
        "id": "mncJkl2zqMKR"
      },
      "execution_count": null,
      "outputs": []
    },
    {
      "cell_type": "code",
      "source": [],
      "metadata": {
        "id": "mwPwS8aaqNKA"
      },
      "execution_count": null,
      "outputs": []
    }
  ]
}