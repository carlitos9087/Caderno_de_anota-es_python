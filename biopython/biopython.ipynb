{
 "cells": [
  {
   "cell_type": "code",
   "execution_count": 1,
   "metadata": {},
   "outputs": [
    {
     "name": "stdout",
     "output_type": "stream",
     "text": [
      "Defaulting to user installation because normal site-packages is not writeable\n",
      "Requirement already satisfied: biopython in /home/carlitos/.local/lib/python3.10/site-packages (1.80)\n",
      "Requirement already satisfied: numpy in /home/carlitos/.local/lib/python3.10/site-packages (from biopython) (1.23.4)\n"
     ]
    }
   ],
   "source": [
    "!pip install biopython"
   ]
  },
  {
   "cell_type": "code",
   "execution_count": 2,
   "metadata": {},
   "outputs": [],
   "source": [
    "from Bio.Seq import Seq\n"
   ]
  },
  {
   "cell_type": "code",
   "execution_count": 3,
   "metadata": {},
   "outputs": [
    {
     "name": "stdout",
     "output_type": "stream",
     "text": [
      "Fita Molde: ATGGCCATTGTAATGGGCCGCTGAAAGGGTGCCCGATAG\n",
      "Fita Compl: TACCGGTAACATTACCCGGCGACTTTCCCACGGGCTATC\n",
      "Fita DNA: ATGGCCATTGTAATGGGCCGCTGAAAGGGTGCCCGATAG\n",
      "Fita RNA: UACCGGUAACAUUACCCGGCGACUUUCCCACGGGCUAUC\n"
     ]
    },
    {
     "data": {
      "text/plain": [
       "Seq('YRQHYPATFPRAI')"
      ]
     },
     "execution_count": 3,
     "metadata": {},
     "output_type": "execute_result"
    }
   ],
   "source": [
    "#Molde\n",
    "dnaM = Seq('ATGGCCATTGTAATGGGCCGCTGAAAGGGTGCCCGATAG')\n",
    "dnaM\n",
    "type(dnaM)\n",
    "#Fita Complementar\n",
    "dnaC = dnaM.complement()\n",
    "dnaC\n",
    "print('Fita Molde:', dnaM)\n",
    "print('Fita Compl:', dnaC)\n",
    "#Transcrito\n",
    "rnaMen = dnaC.transcribe()\n",
    "rnaMen\n",
    "print('Fita DNA:', dnaM)\n",
    "print('Fita RNA:', rnaMen)\n",
    "#Tradução a partir do RNA\n",
    "prot = rnaMen.translate()\n",
    "prot\n",
    "prot = rnaMen.translate(to_stop=True)\n",
    "prot\n",
    "prot = rnaMen.translate(table=6)\n",
    "prot"
   ]
  }
 ],
 "metadata": {
  "kernelspec": {
   "display_name": "Python 3",
   "language": "python",
   "name": "python3"
  },
  "language_info": {
   "codemirror_mode": {
    "name": "ipython",
    "version": 3
   },
   "file_extension": ".py",
   "mimetype": "text/x-python",
   "name": "python",
   "nbconvert_exporter": "python",
   "pygments_lexer": "ipython3",
   "version": "3.10.6"
  },
  "orig_nbformat": 4,
  "vscode": {
   "interpreter": {
    "hash": "916dbcbb3f70747c44a77c7bcd40155683ae19c65e1c03b4aa3499c5328201f1"
   }
  }
 },
 "nbformat": 4,
 "nbformat_minor": 2
}
