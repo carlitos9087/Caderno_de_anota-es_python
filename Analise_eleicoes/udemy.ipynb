{
  "cells": [
    {
      "cell_type": "code",
      "execution_count": 1,
      "metadata": {
        "id": "1qm0GylT_P7k"
      },
      "outputs": [],
      "source": [
        "# Modelagem de dados\n",
        "import pandas as pd\n",
        "import numpy as np\n",
        "\n",
        "# Libs gráficas\n",
        "import plotly.express as px\n",
        "import plotly.graph_objects as go\n",
        "import seaborn as sns\n",
        "import matplotlib.pyplot as plt\n",
        "\n",
        "# Avisos\n",
        "import warnings\n",
        "warnings.filterwarnings('ignore')\n",
        "\n",
        "# Configurações no pandas\n",
        "pd.set_option('display.max_rows', 200)\n",
        "pd.set_option('display.max_columns', 100)\n",
        "\n",
        "# Configurações no Matplot\n",
        "plt.rcParams['figure.figsize'] = ( 15, 6 )\n",
        "plt.style.use('ggplot')"
      ]
    },
    {
      "cell_type": "markdown",
      "metadata": {
        "id": "5LupwChSBK31"
      },
      "source": [
        "# **Importação dos dados**"
      ]
    },
    {
      "cell_type": "code",
      "execution_count": 2,
      "metadata": {
        "colab": {
          "base_uri": "https://localhost:8080/"
        },
        "id": "I_X58SuxBKIz",
        "outputId": "7b2b1938-d18a-405a-dbff-7b5035209fb2"
      },
      "outputs": [
        {
          "data": {
            "text/plain": [
              "(518675, 29)"
            ]
          },
          "execution_count": 2,
          "metadata": {},
          "output_type": "execute_result"
        }
      ],
      "source": [
        "# Dados\n",
        "Base_Dados = pd.read_csv('clean_data.csv')\n",
        "\n",
        "# Diemnsao\n",
        "Base_Dados.shape"
      ]
    },
    {
      "cell_type": "code",
      "execution_count": 3,
      "metadata": {
        "colab": {
          "base_uri": "https://localhost:8080/",
          "height": 403
        },
        "id": "5rTQ7gzgB3z2",
        "outputId": "10aa1011-6cc9-4c03-d9c2-562074420e00"
      },
      "outputs": [
        {
          "data": {
            "text/html": [
              "<div>\n",
              "<style scoped>\n",
              "    .dataframe tbody tr th:only-of-type {\n",
              "        vertical-align: middle;\n",
              "    }\n",
              "\n",
              "    .dataframe tbody tr th {\n",
              "        vertical-align: top;\n",
              "    }\n",
              "\n",
              "    .dataframe thead th {\n",
              "        text-align: right;\n",
              "    }\n",
              "</style>\n",
              "<table border=\"1\" class=\"dataframe\">\n",
              "  <thead>\n",
              "    <tr style=\"text-align: right;\">\n",
              "      <th></th>\n",
              "      <th>Unnamed: 0</th>\n",
              "      <th>uf</th>\n",
              "      <th>type_id</th>\n",
              "      <th>codigo_tse</th>\n",
              "      <th>nome_municipio</th>\n",
              "      <th>capital</th>\n",
              "      <th>codigo_ibge</th>\n",
              "      <th>job_count</th>\n",
              "      <th>elector_count</th>\n",
              "      <th>elector_presence</th>\n",
              "      <th>absentees</th>\n",
              "      <th>nominal_votes</th>\n",
              "      <th>blank_votes</th>\n",
              "      <th>total_null_votes</th>\n",
              "      <th>null_votes</th>\n",
              "      <th>technical_null_votes</th>\n",
              "      <th>valid_votes</th>\n",
              "      <th>nulled_votes</th>\n",
              "      <th>judically_nulled_votes</th>\n",
              "      <th>vote_count</th>\n",
              "      <th>candidate_number</th>\n",
              "      <th>candidate_name</th>\n",
              "      <th>candidate_coligation</th>\n",
              "      <th>candidate_vice_name</th>\n",
              "      <th>candidate_vote_destination</th>\n",
              "      <th>candidate_vote_count</th>\n",
              "      <th>legend_votes</th>\n",
              "      <th>job</th>\n",
              "      <th>main_party</th>\n",
              "    </tr>\n",
              "  </thead>\n",
              "  <tbody>\n",
              "    <tr>\n",
              "      <th>0</th>\n",
              "      <td>0</td>\n",
              "      <td>AC</td>\n",
              "      <td>11</td>\n",
              "      <td>1120</td>\n",
              "      <td>ACRELÂNDIA</td>\n",
              "      <td>0</td>\n",
              "      <td>1200013</td>\n",
              "      <td>1</td>\n",
              "      <td>n</td>\n",
              "      <td>7093</td>\n",
              "      <td>2076</td>\n",
              "      <td>6849</td>\n",
              "      <td>54</td>\n",
              "      <td>190</td>\n",
              "      <td>190</td>\n",
              "      <td>0</td>\n",
              "      <td>6849</td>\n",
              "      <td>0</td>\n",
              "      <td>0</td>\n",
              "      <td>7093</td>\n",
              "      <td>11</td>\n",
              "      <td>CAETANO</td>\n",
              "      <td>PP - PP / SOLIDARIEDADE / PSD</td>\n",
              "      <td>MARQUINHOS</td>\n",
              "      <td>Válido</td>\n",
              "      <td>2405</td>\n",
              "      <td>NaN</td>\n",
              "      <td>prefeito</td>\n",
              "      <td>PP</td>\n",
              "    </tr>\n",
              "    <tr>\n",
              "      <th>1</th>\n",
              "      <td>1</td>\n",
              "      <td>AC</td>\n",
              "      <td>11</td>\n",
              "      <td>1120</td>\n",
              "      <td>ACRELÂNDIA</td>\n",
              "      <td>0</td>\n",
              "      <td>1200013</td>\n",
              "      <td>1</td>\n",
              "      <td>n</td>\n",
              "      <td>7093</td>\n",
              "      <td>2076</td>\n",
              "      <td>6849</td>\n",
              "      <td>54</td>\n",
              "      <td>190</td>\n",
              "      <td>190</td>\n",
              "      <td>0</td>\n",
              "      <td>6849</td>\n",
              "      <td>0</td>\n",
              "      <td>0</td>\n",
              "      <td>7093</td>\n",
              "      <td>12</td>\n",
              "      <td>HADAMÉS WILSON</td>\n",
              "      <td>PDT</td>\n",
              "      <td>LUCAS NOBRE</td>\n",
              "      <td>Válido</td>\n",
              "      <td>1237</td>\n",
              "      <td>NaN</td>\n",
              "      <td>prefeito</td>\n",
              "      <td>PDT</td>\n",
              "    </tr>\n",
              "    <tr>\n",
              "      <th>2</th>\n",
              "      <td>2</td>\n",
              "      <td>AC</td>\n",
              "      <td>11</td>\n",
              "      <td>1120</td>\n",
              "      <td>ACRELÂNDIA</td>\n",
              "      <td>0</td>\n",
              "      <td>1200013</td>\n",
              "      <td>1</td>\n",
              "      <td>s</td>\n",
              "      <td>7093</td>\n",
              "      <td>2076</td>\n",
              "      <td>6849</td>\n",
              "      <td>54</td>\n",
              "      <td>190</td>\n",
              "      <td>190</td>\n",
              "      <td>0</td>\n",
              "      <td>6849</td>\n",
              "      <td>0</td>\n",
              "      <td>0</td>\n",
              "      <td>7093</td>\n",
              "      <td>15</td>\n",
              "      <td>OLAVINHO</td>\n",
              "      <td>MDB - PL / MDB / PSDB</td>\n",
              "      <td>GRAIA</td>\n",
              "      <td>Válido</td>\n",
              "      <td>2638</td>\n",
              "      <td>NaN</td>\n",
              "      <td>prefeito</td>\n",
              "      <td>MDB</td>\n",
              "    </tr>\n",
              "    <tr>\n",
              "      <th>3</th>\n",
              "      <td>3</td>\n",
              "      <td>AC</td>\n",
              "      <td>11</td>\n",
              "      <td>1120</td>\n",
              "      <td>ACRELÂNDIA</td>\n",
              "      <td>0</td>\n",
              "      <td>1200013</td>\n",
              "      <td>1</td>\n",
              "      <td>n</td>\n",
              "      <td>7093</td>\n",
              "      <td>2076</td>\n",
              "      <td>6849</td>\n",
              "      <td>54</td>\n",
              "      <td>190</td>\n",
              "      <td>190</td>\n",
              "      <td>0</td>\n",
              "      <td>6849</td>\n",
              "      <td>0</td>\n",
              "      <td>0</td>\n",
              "      <td>7093</td>\n",
              "      <td>90</td>\n",
              "      <td>ROSA DO EURICO</td>\n",
              "      <td>PROS - PSL / PROS</td>\n",
              "      <td>LUIZ DO GÁS</td>\n",
              "      <td>Válido</td>\n",
              "      <td>569</td>\n",
              "      <td>NaN</td>\n",
              "      <td>prefeito</td>\n",
              "      <td>PROS</td>\n",
              "    </tr>\n",
              "    <tr>\n",
              "      <th>4</th>\n",
              "      <td>4</td>\n",
              "      <td>AC</td>\n",
              "      <td>13</td>\n",
              "      <td>1120</td>\n",
              "      <td>ACRELÂNDIA</td>\n",
              "      <td>0</td>\n",
              "      <td>1200013</td>\n",
              "      <td>9</td>\n",
              "      <td>n</td>\n",
              "      <td>7093</td>\n",
              "      <td>2076</td>\n",
              "      <td>6482</td>\n",
              "      <td>76</td>\n",
              "      <td>120</td>\n",
              "      <td>120</td>\n",
              "      <td>0</td>\n",
              "      <td>6897</td>\n",
              "      <td>0</td>\n",
              "      <td>0</td>\n",
              "      <td>7093</td>\n",
              "      <td>11130</td>\n",
              "      <td>PAULA CLEURIDES</td>\n",
              "      <td>PP</td>\n",
              "      <td></td>\n",
              "      <td>Válido</td>\n",
              "      <td>1</td>\n",
              "      <td>415.0</td>\n",
              "      <td>vereador</td>\n",
              "      <td>PP</td>\n",
              "    </tr>\n",
              "    <tr>\n",
              "      <th>5</th>\n",
              "      <td>5</td>\n",
              "      <td>AC</td>\n",
              "      <td>13</td>\n",
              "      <td>1120</td>\n",
              "      <td>ACRELÂNDIA</td>\n",
              "      <td>0</td>\n",
              "      <td>1200013</td>\n",
              "      <td>9</td>\n",
              "      <td>n</td>\n",
              "      <td>7093</td>\n",
              "      <td>2076</td>\n",
              "      <td>6482</td>\n",
              "      <td>76</td>\n",
              "      <td>120</td>\n",
              "      <td>120</td>\n",
              "      <td>0</td>\n",
              "      <td>6897</td>\n",
              "      <td>0</td>\n",
              "      <td>0</td>\n",
              "      <td>7093</td>\n",
              "      <td>12345</td>\n",
              "      <td>CALANGO</td>\n",
              "      <td>PDT</td>\n",
              "      <td></td>\n",
              "      <td>Válido</td>\n",
              "      <td>70</td>\n",
              "      <td>415.0</td>\n",
              "      <td>vereador</td>\n",
              "      <td>PDT</td>\n",
              "    </tr>\n",
              "  </tbody>\n",
              "</table>\n",
              "</div>"
            ],
            "text/plain": [
              "   Unnamed: 0  uf  type_id  codigo_tse nome_municipio  capital  codigo_ibge  \\\n",
              "0           0  AC       11        1120     ACRELÂNDIA        0      1200013   \n",
              "1           1  AC       11        1120     ACRELÂNDIA        0      1200013   \n",
              "2           2  AC       11        1120     ACRELÂNDIA        0      1200013   \n",
              "3           3  AC       11        1120     ACRELÂNDIA        0      1200013   \n",
              "4           4  AC       13        1120     ACRELÂNDIA        0      1200013   \n",
              "5           5  AC       13        1120     ACRELÂNDIA        0      1200013   \n",
              "\n",
              "   job_count elector_count  elector_presence  absentees  nominal_votes  \\\n",
              "0          1             n              7093       2076           6849   \n",
              "1          1             n              7093       2076           6849   \n",
              "2          1             s              7093       2076           6849   \n",
              "3          1             n              7093       2076           6849   \n",
              "4          9             n              7093       2076           6482   \n",
              "5          9             n              7093       2076           6482   \n",
              "\n",
              "   blank_votes  total_null_votes  null_votes  technical_null_votes  \\\n",
              "0           54               190         190                     0   \n",
              "1           54               190         190                     0   \n",
              "2           54               190         190                     0   \n",
              "3           54               190         190                     0   \n",
              "4           76               120         120                     0   \n",
              "5           76               120         120                     0   \n",
              "\n",
              "   valid_votes  nulled_votes  judically_nulled_votes  vote_count  \\\n",
              "0         6849             0                       0        7093   \n",
              "1         6849             0                       0        7093   \n",
              "2         6849             0                       0        7093   \n",
              "3         6849             0                       0        7093   \n",
              "4         6897             0                       0        7093   \n",
              "5         6897             0                       0        7093   \n",
              "\n",
              "   candidate_number   candidate_name           candidate_coligation  \\\n",
              "0                11          CAETANO  PP - PP / SOLIDARIEDADE / PSD   \n",
              "1                12   HADAMÉS WILSON                            PDT   \n",
              "2                15         OLAVINHO          MDB - PL / MDB / PSDB   \n",
              "3                90   ROSA DO EURICO              PROS - PSL / PROS   \n",
              "4             11130  PAULA CLEURIDES                             PP   \n",
              "5             12345          CALANGO                            PDT   \n",
              "\n",
              "  candidate_vice_name candidate_vote_destination  candidate_vote_count  \\\n",
              "0          MARQUINHOS                     Válido                  2405   \n",
              "1         LUCAS NOBRE                     Válido                  1237   \n",
              "2               GRAIA                     Válido                  2638   \n",
              "3        LUIZ DO GÁS                      Válido                   569   \n",
              "4                                         Válido                     1   \n",
              "5                                         Válido                    70   \n",
              "\n",
              "   legend_votes       job main_party  \n",
              "0           NaN  prefeito         PP  \n",
              "1           NaN  prefeito        PDT  \n",
              "2           NaN  prefeito        MDB  \n",
              "3           NaN  prefeito       PROS  \n",
              "4         415.0  vereador         PP  \n",
              "5         415.0  vereador        PDT  "
            ]
          },
          "execution_count": 3,
          "metadata": {},
          "output_type": "execute_result"
        }
      ],
      "source": [
        "#verificar\n",
        "Base_Dados.head(6)"
      ]
    },
    {
      "cell_type": "code",
      "execution_count": 4,
      "metadata": {
        "colab": {
          "base_uri": "https://localhost:8080/"
        },
        "id": "qIPz477xCO-O",
        "outputId": "905fcd98-9c52-4e08-be35-3844a0c97047"
      },
      "outputs": [
        {
          "name": "stdout",
          "output_type": "stream",
          "text": [
            "<class 'pandas.core.frame.DataFrame'>\n",
            "RangeIndex: 518675 entries, 0 to 518674\n",
            "Data columns (total 29 columns):\n",
            " #   Column                      Non-Null Count   Dtype  \n",
            "---  ------                      --------------   -----  \n",
            " 0   Unnamed: 0                  518675 non-null  int64  \n",
            " 1   uf                          518675 non-null  object \n",
            " 2   type_id                     518675 non-null  int64  \n",
            " 3   codigo_tse                  518675 non-null  int64  \n",
            " 4   nome_municipio              518675 non-null  object \n",
            " 5   capital                     518675 non-null  int64  \n",
            " 6   codigo_ibge                 518675 non-null  int64  \n",
            " 7   job_count                   518675 non-null  int64  \n",
            " 8   elector_count               518675 non-null  object \n",
            " 9   elector_presence            518675 non-null  int64  \n",
            " 10  absentees                   518675 non-null  int64  \n",
            " 11  nominal_votes               518675 non-null  int64  \n",
            " 12  blank_votes                 518675 non-null  int64  \n",
            " 13  total_null_votes            518675 non-null  int64  \n",
            " 14  null_votes                  518675 non-null  int64  \n",
            " 15  technical_null_votes        518675 non-null  int64  \n",
            " 16  valid_votes                 518675 non-null  int64  \n",
            " 17  nulled_votes                518675 non-null  int64  \n",
            " 18  judically_nulled_votes      518675 non-null  int64  \n",
            " 19  vote_count                  518675 non-null  int64  \n",
            " 20  candidate_number            518675 non-null  int64  \n",
            " 21  candidate_name              518672 non-null  object \n",
            " 22  candidate_coligation        518675 non-null  object \n",
            " 23  candidate_vice_name         518675 non-null  object \n",
            " 24  candidate_vote_destination  518675 non-null  object \n",
            " 25  candidate_vote_count        518675 non-null  int64  \n",
            " 26  legend_votes                500035 non-null  float64\n",
            " 27  job                         518675 non-null  object \n",
            " 28  main_party                  518675 non-null  object \n",
            "dtypes: float64(1), int64(19), object(9)\n",
            "memory usage: 114.8+ MB\n"
          ]
        }
      ],
      "source": [
        "Base_Dados.info()"
      ]
    },
    {
      "cell_type": "code",
      "execution_count": 5,
      "metadata": {
        "colab": {
          "base_uri": "https://localhost:8080/"
        },
        "id": "zBQl6A5yCrmp",
        "outputId": "22b772e4-adff-45e0-97cc-452b5c6d020a"
      },
      "outputs": [
        {
          "data": {
            "text/plain": [
              "Unnamed: 0                        0\n",
              "uf                                0\n",
              "type_id                           0\n",
              "codigo_tse                        0\n",
              "nome_municipio                    0\n",
              "capital                           0\n",
              "codigo_ibge                       0\n",
              "job_count                         0\n",
              "elector_count                     0\n",
              "elector_presence                  0\n",
              "absentees                         0\n",
              "nominal_votes                     0\n",
              "blank_votes                       0\n",
              "total_null_votes                  0\n",
              "null_votes                        0\n",
              "technical_null_votes              0\n",
              "valid_votes                       0\n",
              "nulled_votes                      0\n",
              "judically_nulled_votes            0\n",
              "vote_count                        0\n",
              "candidate_number                  0\n",
              "candidate_name                    3\n",
              "candidate_coligation              0\n",
              "candidate_vice_name               0\n",
              "candidate_vote_destination        0\n",
              "candidate_vote_count              0\n",
              "legend_votes                  18640\n",
              "job                               0\n",
              "main_party                        0\n",
              "dtype: int64"
            ]
          },
          "execution_count": 5,
          "metadata": {},
          "output_type": "execute_result"
        }
      ],
      "source": [
        "Base_Dados.isnull().sum()"
      ]
    },
    {
      "cell_type": "code",
      "execution_count": 6,
      "metadata": {
        "colab": {
          "base_uri": "https://localhost:8080/"
        },
        "id": "UTisVdYbDWug",
        "outputId": "1d9f9ce9-db4c-413e-c62a-375ca9a224aa"
      },
      "outputs": [
        {
          "data": {
            "text/plain": [
              "Unnamed: 0                    518675\n",
              "uf                                26\n",
              "type_id                            2\n",
              "codigo_tse                      5568\n",
              "nome_municipio                  5294\n",
              "capital                            2\n",
              "codigo_ibge                     5568\n",
              "job_count                         33\n",
              "elector_count                      2\n",
              "elector_presence                4864\n",
              "absentees                       3562\n",
              "nominal_votes                   8361\n",
              "blank_votes                     1784\n",
              "total_null_votes                2194\n",
              "null_votes                      2177\n",
              "technical_null_votes             236\n",
              "valid_votes                     8402\n",
              "nulled_votes                      10\n",
              "judically_nulled_votes          1046\n",
              "vote_count                      4864\n",
              "candidate_number               20334\n",
              "candidate_name                394364\n",
              "candidate_coligation            7941\n",
              "candidate_vice_name            16997\n",
              "candidate_vote_destination         4\n",
              "candidate_vote_count            8730\n",
              "legend_votes                    1736\n",
              "job                                2\n",
              "main_party                        33\n",
              "dtype: int64"
            ]
          },
          "execution_count": 6,
          "metadata": {},
          "output_type": "execute_result"
        }
      ],
      "source": [
        "#campos unicos]\n",
        "Base_Dados.nunique()"
      ]
    },
    {
      "cell_type": "code",
      "execution_count": 7,
      "metadata": {
        "colab": {
          "base_uri": "https://localhost:8080/",
          "height": 382
        },
        "id": "0b2v7-FCD3Ae",
        "outputId": "adb9348d-8e4f-4a5e-8753-3403aaa873f1"
      },
      "outputs": [],
      "source": [
        "#retirar colunas com o parametro .drops(columns= ['nome_da_coluna'], inplace=True ou False)\n",
        "#inplace serve para aplicar a modificação no no csv se for True\n",
        "Base_Dados.drop(columns=['Unnamed: 0'], inplace=True)"
      ]
    },
    {
      "cell_type": "code",
      "execution_count": 8,
      "metadata": {
        "colab": {
          "base_uri": "https://localhost:8080/"
        },
        "id": "IXb436uIEqYy",
        "outputId": "6c90ec21-3a05-467f-a9d5-a1389f3d4f73"
      },
      "outputs": [
        {
          "name": "stdout",
          "output_type": "stream",
          "text": [
            "<class 'pandas.core.frame.DataFrame'>\n",
            "RangeIndex: 518675 entries, 0 to 518674\n",
            "Data columns (total 28 columns):\n",
            " #   Column                      Non-Null Count   Dtype  \n",
            "---  ------                      --------------   -----  \n",
            " 0   uf                          518675 non-null  object \n",
            " 1   type_id                     518675 non-null  int64  \n",
            " 2   codigo_tse                  518675 non-null  int64  \n",
            " 3   nome_municipio              518675 non-null  object \n",
            " 4   capital                     518675 non-null  int64  \n",
            " 5   codigo_ibge                 518675 non-null  int64  \n",
            " 6   job_count                   518675 non-null  int64  \n",
            " 7   elector_count               518675 non-null  object \n",
            " 8   elector_presence            518675 non-null  int64  \n",
            " 9   absentees                   518675 non-null  int64  \n",
            " 10  nominal_votes               518675 non-null  int64  \n",
            " 11  blank_votes                 518675 non-null  int64  \n",
            " 12  total_null_votes            518675 non-null  int64  \n",
            " 13  null_votes                  518675 non-null  int64  \n",
            " 14  technical_null_votes        518675 non-null  int64  \n",
            " 15  valid_votes                 518675 non-null  int64  \n",
            " 16  nulled_votes                518675 non-null  int64  \n",
            " 17  judically_nulled_votes      518675 non-null  int64  \n",
            " 18  vote_count                  518675 non-null  int64  \n",
            " 19  candidate_number            518675 non-null  int64  \n",
            " 20  candidate_name              518672 non-null  object \n",
            " 21  candidate_coligation        518675 non-null  object \n",
            " 22  candidate_vice_name         518675 non-null  object \n",
            " 23  candidate_vote_destination  518675 non-null  object \n",
            " 24  candidate_vote_count        518675 non-null  int64  \n",
            " 25  legend_votes                500035 non-null  float64\n",
            " 26  job                         518675 non-null  object \n",
            " 27  main_party                  518675 non-null  object \n",
            "dtypes: float64(1), int64(18), object(9)\n",
            "memory usage: 110.8+ MB\n"
          ]
        }
      ],
      "source": [
        "Base_Dados.info()"
      ]
    },
    {
      "cell_type": "markdown",
      "metadata": {
        "id": "5VA15UsABxgw"
      },
      "source": [
        "# **Mão na massa**"
      ]
    },
    {
      "cell_type": "markdown",
      "metadata": {
        "id": "e5OJCh-sGOJF"
      },
      "source": [
        "## **Prefeitos eleitos no pais**"
      ]
    },
    {
      "cell_type": "code",
      "execution_count": 9,
      "metadata": {
        "colab": {
          "base_uri": "https://localhost:8080/",
          "height": 217
        },
        "id": "Rs583C3RU14V",
        "outputId": "228839b1-ee9d-4030-eb7e-40d07555b87f"
      },
      "outputs": [
        {
          "data": {
            "text/html": [
              "<div>\n",
              "<style scoped>\n",
              "    .dataframe tbody tr th:only-of-type {\n",
              "        vertical-align: middle;\n",
              "    }\n",
              "\n",
              "    .dataframe tbody tr th {\n",
              "        vertical-align: top;\n",
              "    }\n",
              "\n",
              "    .dataframe thead th {\n",
              "        text-align: right;\n",
              "    }\n",
              "</style>\n",
              "<table border=\"1\" class=\"dataframe\">\n",
              "  <thead>\n",
              "    <tr style=\"text-align: right;\">\n",
              "      <th></th>\n",
              "      <th>uf</th>\n",
              "      <th>type_id</th>\n",
              "      <th>codigo_tse</th>\n",
              "      <th>nome_municipio</th>\n",
              "      <th>capital</th>\n",
              "      <th>codigo_ibge</th>\n",
              "      <th>job_count</th>\n",
              "      <th>elector_count</th>\n",
              "      <th>elector_presence</th>\n",
              "      <th>absentees</th>\n",
              "      <th>nominal_votes</th>\n",
              "      <th>blank_votes</th>\n",
              "      <th>total_null_votes</th>\n",
              "      <th>null_votes</th>\n",
              "      <th>technical_null_votes</th>\n",
              "      <th>valid_votes</th>\n",
              "      <th>nulled_votes</th>\n",
              "      <th>judically_nulled_votes</th>\n",
              "      <th>vote_count</th>\n",
              "      <th>candidate_number</th>\n",
              "      <th>candidate_name</th>\n",
              "      <th>candidate_coligation</th>\n",
              "      <th>candidate_vice_name</th>\n",
              "      <th>candidate_vote_destination</th>\n",
              "      <th>candidate_vote_count</th>\n",
              "      <th>legend_votes</th>\n",
              "      <th>job</th>\n",
              "      <th>main_party</th>\n",
              "    </tr>\n",
              "  </thead>\n",
              "  <tbody>\n",
              "    <tr>\n",
              "      <th>0</th>\n",
              "      <td>AC</td>\n",
              "      <td>11</td>\n",
              "      <td>1120</td>\n",
              "      <td>ACRELÂNDIA</td>\n",
              "      <td>0</td>\n",
              "      <td>1200013</td>\n",
              "      <td>1</td>\n",
              "      <td>n</td>\n",
              "      <td>7093</td>\n",
              "      <td>2076</td>\n",
              "      <td>6849</td>\n",
              "      <td>54</td>\n",
              "      <td>190</td>\n",
              "      <td>190</td>\n",
              "      <td>0</td>\n",
              "      <td>6849</td>\n",
              "      <td>0</td>\n",
              "      <td>0</td>\n",
              "      <td>7093</td>\n",
              "      <td>11</td>\n",
              "      <td>CAETANO</td>\n",
              "      <td>PP - PP / SOLIDARIEDADE / PSD</td>\n",
              "      <td>MARQUINHOS</td>\n",
              "      <td>Válido</td>\n",
              "      <td>2405</td>\n",
              "      <td>NaN</td>\n",
              "      <td>prefeito</td>\n",
              "      <td>PP</td>\n",
              "    </tr>\n",
              "    <tr>\n",
              "      <th>1</th>\n",
              "      <td>AC</td>\n",
              "      <td>11</td>\n",
              "      <td>1120</td>\n",
              "      <td>ACRELÂNDIA</td>\n",
              "      <td>0</td>\n",
              "      <td>1200013</td>\n",
              "      <td>1</td>\n",
              "      <td>n</td>\n",
              "      <td>7093</td>\n",
              "      <td>2076</td>\n",
              "      <td>6849</td>\n",
              "      <td>54</td>\n",
              "      <td>190</td>\n",
              "      <td>190</td>\n",
              "      <td>0</td>\n",
              "      <td>6849</td>\n",
              "      <td>0</td>\n",
              "      <td>0</td>\n",
              "      <td>7093</td>\n",
              "      <td>12</td>\n",
              "      <td>HADAMÉS WILSON</td>\n",
              "      <td>PDT</td>\n",
              "      <td>LUCAS NOBRE</td>\n",
              "      <td>Válido</td>\n",
              "      <td>1237</td>\n",
              "      <td>NaN</td>\n",
              "      <td>prefeito</td>\n",
              "      <td>PDT</td>\n",
              "    </tr>\n",
              "  </tbody>\n",
              "</table>\n",
              "</div>"
            ],
            "text/plain": [
              "   uf  type_id  codigo_tse nome_municipio  capital  codigo_ibge  job_count  \\\n",
              "0  AC       11        1120     ACRELÂNDIA        0      1200013          1   \n",
              "1  AC       11        1120     ACRELÂNDIA        0      1200013          1   \n",
              "\n",
              "  elector_count  elector_presence  absentees  nominal_votes  blank_votes  \\\n",
              "0             n              7093       2076           6849           54   \n",
              "1             n              7093       2076           6849           54   \n",
              "\n",
              "   total_null_votes  null_votes  technical_null_votes  valid_votes  \\\n",
              "0               190         190                     0         6849   \n",
              "1               190         190                     0         6849   \n",
              "\n",
              "   nulled_votes  judically_nulled_votes  vote_count  candidate_number  \\\n",
              "0             0                       0        7093                11   \n",
              "1             0                       0        7093                12   \n",
              "\n",
              "   candidate_name           candidate_coligation candidate_vice_name  \\\n",
              "0         CAETANO  PP - PP / SOLIDARIEDADE / PSD          MARQUINHOS   \n",
              "1  HADAMÉS WILSON                            PDT         LUCAS NOBRE   \n",
              "\n",
              "  candidate_vote_destination  candidate_vote_count  legend_votes       job  \\\n",
              "0                     Válido                  2405           NaN  prefeito   \n",
              "1                     Válido                  1237           NaN  prefeito   \n",
              "\n",
              "  main_party  \n",
              "0         PP  \n",
              "1        PDT  "
            ]
          },
          "execution_count": 9,
          "metadata": {},
          "output_type": "execute_result"
        }
      ],
      "source": [
        "Base_Dados.head(2)"
      ]
    },
    {
      "cell_type": "code",
      "execution_count": 10,
      "metadata": {
        "colab": {
          "base_uri": "https://localhost:8080/"
        },
        "id": "dGeVZ8ijGNUN",
        "outputId": "1837d1c6-5632-4780-cf88-e38d8ee19454"
      },
      "outputs": [
        {
          "data": {
            "text/plain": [
              "array(['prefeito', 'vereador'], dtype=object)"
            ]
          },
          "execution_count": 10,
          "metadata": {},
          "output_type": "execute_result"
        }
      ],
      "source": [
        "# Verificando as vagas\n",
        "Base_Dados['job'].unique()"
      ]
    },
    {
      "cell_type": "code",
      "execution_count": 11,
      "metadata": {
        "colab": {
          "base_uri": "https://localhost:8080/"
        },
        "id": "k5smZnmaUB6b",
        "outputId": "c2101b08-4367-4876-8fce-1d8c878eda41"
      },
      "outputs": [
        {
          "data": {
            "text/plain": [
              "(5519, 28)"
            ]
          },
          "execution_count": 11,
          "metadata": {},
          "output_type": "execute_result"
        }
      ],
      "source": [
        "#contagem de prefeitos\n",
        "Query_prefeitos= Base_Dados[\n",
        "    (Base_Dados['job']=='prefeito') &\n",
        "    (Base_Dados['elector_count']=='s')]\n",
        "Query_prefeitos.shape# verifica a quantidade de linhas e colunas"
      ]
    },
    {
      "cell_type": "code",
      "execution_count": 12,
      "metadata": {
        "colab": {
          "base_uri": "https://localhost:8080/",
          "height": 181
        },
        "id": "6pge1mMfXy_w",
        "outputId": "a3e2b7b7-be46-42be-83e9-82941cc5030f"
      },
      "outputs": [
        {
          "data": {
            "text/html": [
              "<div>\n",
              "<style scoped>\n",
              "    .dataframe tbody tr th:only-of-type {\n",
              "        vertical-align: middle;\n",
              "    }\n",
              "\n",
              "    .dataframe tbody tr th {\n",
              "        vertical-align: top;\n",
              "    }\n",
              "\n",
              "    .dataframe thead th {\n",
              "        text-align: right;\n",
              "    }\n",
              "</style>\n",
              "<table border=\"1\" class=\"dataframe\">\n",
              "  <thead>\n",
              "    <tr style=\"text-align: right;\">\n",
              "      <th></th>\n",
              "      <th>Quantidades</th>\n",
              "    </tr>\n",
              "    <tr>\n",
              "      <th>main_party</th>\n",
              "      <th></th>\n",
              "    </tr>\n",
              "  </thead>\n",
              "  <tbody>\n",
              "    <tr>\n",
              "      <th>AVANTE</th>\n",
              "      <td>82</td>\n",
              "    </tr>\n",
              "    <tr>\n",
              "      <th>CIDADANIA</th>\n",
              "      <td>141</td>\n",
              "    </tr>\n",
              "    <tr>\n",
              "      <th>DC</th>\n",
              "      <td>1</td>\n",
              "    </tr>\n",
              "  </tbody>\n",
              "</table>\n",
              "</div>"
            ],
            "text/plain": [
              "            Quantidades\n",
              "main_party             \n",
              "AVANTE               82\n",
              "CIDADANIA           141\n",
              "DC                    1"
            ]
          },
          "execution_count": 12,
          "metadata": {},
          "output_type": "execute_result"
        }
      ],
      "source": [
        "#analise\n",
        "analise_01 = Query_prefeitos.groupby(by=['main_party']).agg(Quantidades=('candidate_vote_count', 'count'))\n",
        "analise_01.head(3)"
      ]
    },
    {
      "cell_type": "code",
      "execution_count": 13,
      "metadata": {
        "colab": {
          "base_uri": "https://localhost:8080/"
        },
        "id": "1dubejUfvtDx",
        "outputId": "15c4af2d-cc6e-49af-e808-ed072e282dba"
      },
      "outputs": [
        {
          "data": {
            "text/plain": [
              "5519"
            ]
          },
          "execution_count": 13,
          "metadata": {},
          "output_type": "execute_result"
        }
      ],
      "source": [
        "#Quantidade de prefeitos eleitos\n",
        "Qtd_prefeitos_eleitos=analise_01['Quantidades'].sum()\n",
        "Qtd_prefeitos_eleitos"
      ]
    },
    {
      "cell_type": "code",
      "execution_count": 14,
      "metadata": {
        "colab": {
          "base_uri": "https://localhost:8080/",
          "height": 181
        },
        "id": "uwDRO46jvSWm",
        "outputId": "19106669-bd1b-43df-bf5e-36a13a7443a5"
      },
      "outputs": [
        {
          "data": {
            "text/html": [
              "<div>\n",
              "<style scoped>\n",
              "    .dataframe tbody tr th:only-of-type {\n",
              "        vertical-align: middle;\n",
              "    }\n",
              "\n",
              "    .dataframe tbody tr th {\n",
              "        vertical-align: top;\n",
              "    }\n",
              "\n",
              "    .dataframe thead th {\n",
              "        text-align: right;\n",
              "    }\n",
              "</style>\n",
              "<table border=\"1\" class=\"dataframe\">\n",
              "  <thead>\n",
              "    <tr style=\"text-align: right;\">\n",
              "      <th></th>\n",
              "      <th>Quantidades</th>\n",
              "      <th>%</th>\n",
              "    </tr>\n",
              "    <tr>\n",
              "      <th>main_party</th>\n",
              "      <th></th>\n",
              "      <th></th>\n",
              "    </tr>\n",
              "  </thead>\n",
              "  <tbody>\n",
              "    <tr>\n",
              "      <th>MDB</th>\n",
              "      <td>787</td>\n",
              "      <td>14.26</td>\n",
              "    </tr>\n",
              "    <tr>\n",
              "      <th>PP</th>\n",
              "      <td>687</td>\n",
              "      <td>12.45</td>\n",
              "    </tr>\n",
              "    <tr>\n",
              "      <th>PSD</th>\n",
              "      <td>660</td>\n",
              "      <td>11.96</td>\n",
              "    </tr>\n",
              "  </tbody>\n",
              "</table>\n",
              "</div>"
            ],
            "text/plain": [
              "            Quantidades      %\n",
              "main_party                    \n",
              "MDB                 787  14.26\n",
              "PP                  687  12.45\n",
              "PSD                 660  11.96"
            ]
          },
          "execution_count": 14,
          "metadata": {},
          "output_type": "execute_result"
        }
      ],
      "source": [
        "#gerar percentual %\n",
        "analise_01['%']=analise_01['Quantidades']/Qtd_prefeitos_eleitos *100\n",
        "analise_01['%']= round(analise_01['%'], 2)\n",
        "# organizar a ordem\n",
        "analise_01.sort_values('Quantidades', inplace=True, ascending=False)\n",
        "#Verifica que eu não estou ficando doido\n",
        "analise_01.head(3)"
      ]
    },
    {
      "cell_type": "code",
      "execution_count": 29,
      "metadata": {
        "colab": {
          "base_uri": "https://localhost:8080/",
          "height": 481
        },
        "id": "wEdTZ4p_BEGR",
        "outputId": "c7d23083-ff09-499b-89f9-292c6434e198"
      },
      "outputs": [
        {
          "data": {
            "image/png": "[encoded data removed]",
            "text/plain": [
              "<Figure size 2000x600 with 1 Axes>"
            ]
          },
          "metadata": {},
          "output_type": "display_data"
        }
      ],
      "source": [
        "#Gráfico\n",
        "paleta_de_cores =sns.color_palette('Dark2_r',len(analise_01))\n",
        "\n",
        "plt.figure(figsize=(20,6))\n",
        "plt.bar(analise_01.index, #eixo x\n",
        "        analise_01['Quantidades'], #eixo y\n",
        "        width=0.8,\n",
        "        color=paleta_de_cores\n",
        "        )\n",
        "\n",
        "\n",
        "\n",
        "#etiquetar\n",
        "for posicao, valor in enumerate (analise_01['Quantidades']):\n",
        "  plt.text(\n",
        "      # Posicao do gráfico ( x, y)\n",
        "      posicao -0.3, valor + 10,\n",
        "      # Valor no gráfico\n",
        "      valor,\n",
        "      # Paleta\n",
        "      color=paleta_de_cores[posicao],\n",
        "      # Tamanho\n",
        "      size=12,\n",
        "      # expesura da fonte\n",
        "      fontweight=400\n",
        "  )\n",
        "\n",
        "total_eleitos = analise_01['Quantidades'].sum()\n",
        "plt.annotate(f'Eleitos no Brasil: {total_eleitos}',\n",
        "             xy=(0.90,0.85),\n",
        "             xycoords='axes fraction',\n",
        "             ha='right', \n",
        "             va='center',\n",
        "             color='green',\n",
        "             fontsize=18,\n",
        "             fontweight=500,\n",
        "             bbox=dict(facecolor='#ffffff', edgecolor='green', boxstyle='round', pad=0.25)\n",
        "             )\n",
        "#limite \n",
        "plt.ylim(0, analise_01['Quantidades'].max() + (analise_01['Quantidades'].max() * 0.1))\n",
        "#título\n",
        "plt.title('Prefeitos eleitos no país',loc='left', fontsize=20, color='#404040', fontweight=400)\n",
        "#laterais\n",
        "plt.ylabel('Quantidade de prefeitos')\n",
        "plt.xlabel('Partidos')\n",
        "plt.xticks(rotation=65);"
      ]
    },
    {
      "cell_type": "markdown",
      "metadata": {
        "id": "9aOZNPNrGgeV"
      },
      "source": [
        "## **Vereadores Eleitos no país**"
      ]
    },
    {
      "cell_type": "code",
      "execution_count": 16,
      "metadata": {
        "colab": {
          "base_uri": "https://localhost:8080/"
        },
        "id": "YPpm9oCdWPfJ",
        "outputId": "6d4f3c43-1014-4c46-c7b7-4998197aafeb"
      },
      "outputs": [
        {
          "data": {
            "text/plain": [
              "(57866, 28)"
            ]
          },
          "execution_count": 16,
          "metadata": {},
          "output_type": "execute_result"
        }
      ],
      "source": [
        "#contagem de vereadores\n",
        "Query_vereadores = Base_Dados[\n",
        "    (Base_Dados['job']=='vereador') &\n",
        "    (Base_Dados['elector_count']=='s')]\n",
        "Query_vereadores.shape"
      ]
    },
    {
      "cell_type": "code",
      "execution_count": 17,
      "metadata": {
        "colab": {
          "base_uri": "https://localhost:8080/",
          "height": 181
        },
        "id": "gzaQu8Po0lvF",
        "outputId": "f765be80-9105-44f8-9c58-ead46b2b4630"
      },
      "outputs": [
        {
          "data": {
            "text/html": [
              "<div>\n",
              "<style scoped>\n",
              "    .dataframe tbody tr th:only-of-type {\n",
              "        vertical-align: middle;\n",
              "    }\n",
              "\n",
              "    .dataframe tbody tr th {\n",
              "        vertical-align: top;\n",
              "    }\n",
              "\n",
              "    .dataframe thead th {\n",
              "        text-align: right;\n",
              "    }\n",
              "</style>\n",
              "<table border=\"1\" class=\"dataframe\">\n",
              "  <thead>\n",
              "    <tr style=\"text-align: right;\">\n",
              "      <th></th>\n",
              "      <th>Quantidades</th>\n",
              "    </tr>\n",
              "    <tr>\n",
              "      <th>main_party</th>\n",
              "      <th></th>\n",
              "    </tr>\n",
              "  </thead>\n",
              "  <tbody>\n",
              "    <tr>\n",
              "      <th>AVANTE</th>\n",
              "      <td>1046</td>\n",
              "    </tr>\n",
              "    <tr>\n",
              "      <th>CIDADANIA</th>\n",
              "      <td>1583</td>\n",
              "    </tr>\n",
              "    <tr>\n",
              "      <th>DC</th>\n",
              "      <td>121</td>\n",
              "    </tr>\n",
              "  </tbody>\n",
              "</table>\n",
              "</div>"
            ],
            "text/plain": [
              "            Quantidades\n",
              "main_party             \n",
              "AVANTE             1046\n",
              "CIDADANIA          1583\n",
              "DC                  121"
            ]
          },
          "execution_count": 17,
          "metadata": {},
          "output_type": "execute_result"
        }
      ],
      "source": [
        "analise_02 = Query_vereadores.groupby(by=['main_party']).agg(Quantidades=('candidate_vote_count', 'count'))\n",
        "analise_02.head(3)"
      ]
    },
    {
      "cell_type": "code",
      "execution_count": 18,
      "metadata": {
        "colab": {
          "base_uri": "https://localhost:8080/"
        },
        "id": "LLxr44cC05Eo",
        "outputId": "64fd580c-5e8f-44ac-9947-37a2f6b58ff0"
      },
      "outputs": [
        {
          "data": {
            "text/plain": [
              "57866"
            ]
          },
          "execution_count": 18,
          "metadata": {},
          "output_type": "execute_result"
        }
      ],
      "source": [
        "#Quantidade de prefeitos eleitos\n",
        "Qtd_vereadores_eleitos=analise_02['Quantidades'].sum()\n",
        "Qtd_vereadores_eleitos"
      ]
    },
    {
      "cell_type": "code",
      "execution_count": 19,
      "metadata": {
        "colab": {
          "base_uri": "https://localhost:8080/",
          "height": 181
        },
        "id": "L2plPg8G1UBP",
        "outputId": "a29ee5fa-dfe5-40f2-d0f1-14b7490d0843"
      },
      "outputs": [
        {
          "data": {
            "text/html": [
              "<div>\n",
              "<style scoped>\n",
              "    .dataframe tbody tr th:only-of-type {\n",
              "        vertical-align: middle;\n",
              "    }\n",
              "\n",
              "    .dataframe tbody tr th {\n",
              "        vertical-align: top;\n",
              "    }\n",
              "\n",
              "    .dataframe thead th {\n",
              "        text-align: right;\n",
              "    }\n",
              "</style>\n",
              "<table border=\"1\" class=\"dataframe\">\n",
              "  <thead>\n",
              "    <tr style=\"text-align: right;\">\n",
              "      <th></th>\n",
              "      <th>Quantidades</th>\n",
              "      <th>%</th>\n",
              "    </tr>\n",
              "    <tr>\n",
              "      <th>main_party</th>\n",
              "      <th></th>\n",
              "      <th></th>\n",
              "    </tr>\n",
              "  </thead>\n",
              "  <tbody>\n",
              "    <tr>\n",
              "      <th>MDB</th>\n",
              "      <td>7311</td>\n",
              "      <td>12.63</td>\n",
              "    </tr>\n",
              "    <tr>\n",
              "      <th>PP</th>\n",
              "      <td>6331</td>\n",
              "      <td>10.94</td>\n",
              "    </tr>\n",
              "    <tr>\n",
              "      <th>PSD</th>\n",
              "      <td>5676</td>\n",
              "      <td>9.81</td>\n",
              "    </tr>\n",
              "  </tbody>\n",
              "</table>\n",
              "</div>"
            ],
            "text/plain": [
              "            Quantidades      %\n",
              "main_party                    \n",
              "MDB                7311  12.63\n",
              "PP                 6331  10.94\n",
              "PSD                5676   9.81"
            ]
          },
          "execution_count": 19,
          "metadata": {},
          "output_type": "execute_result"
        }
      ],
      "source": [
        "#gerar percentual %\n",
        "analise_02['%']=analise_02['Quantidades']/Qtd_vereadores_eleitos *100\n",
        "analise_02['%']= round(analise_02['%'], 2)\n",
        "# organizar a ordem\n",
        "analise_02.sort_values('Quantidades', inplace=True, ascending=False)\n",
        "#Verifica que eu não estou ficando doido\n",
        "analise_02.head(3)"
      ]
    },
    {
      "cell_type": "code",
      "execution_count": 20,
      "metadata": {
        "colab": {
          "base_uri": "https://localhost:8080/",
          "height": 523
        },
        "id": "2IZyN9fA2_QF",
        "outputId": "43056495-5bfe-42ce-ce09-d5e59c3065a7"
      },
      "outputs": [
        {
          "data": {
            "text/plain": [
              "Text(0.0, 1.0, 'Vereadores eleitos no pais')"
            ]
          },
          "execution_count": 20,
          "metadata": {},
          "output_type": "execute_result"
        },
        {
          "data": {
            "image/png": "[encoded data removed]",
            "text/plain": [
              "<Figure size 1000x800 with 1 Axes>"
            ]
          },
          "metadata": {},
          "output_type": "display_data"
        }
      ],
      "source": [
        "plt.figure(figsize=(10,8))\n",
        "plt.hlines(\n",
        "    y=analise_02.index, xmin=0, xmax=(analise_02['Quantidades']),\n",
        "    lw=5,\n",
        "    colors= paleta_de_cores,#transparencia\n",
        "    alpha=0.5,\n",
        ");\n",
        "plt.scatter( \n",
        "    # Dados\n",
        "    analise_02['Quantidades'],\n",
        "    analise_02.index,\n",
        "    # Tamanho do ponto\n",
        "    s=100,\n",
        "    # Cor\n",
        "    color=paleta_de_cores,\n",
        "    # Transparencia\n",
        "    alpha=0.8\n",
        ")\n",
        "total_eleitos_vereadores= analise_02['Quantidades'].sum()\n",
        "plt.annotate(f'Eleitos no Brasil: {total_eleitos_vereadores}',\n",
        "             xy=(0.90,0.85),\n",
        "             xycoords='axes fraction',\n",
        "             ha='right', \n",
        "             va='center',\n",
        "             color='green',\n",
        "             fontsize=18,\n",
        "             fontweight=500,\n",
        "             bbox=dict(facecolor='#ffffff', edgecolor='green', boxstyle='round', pad=0.25)\n",
        "             )\n",
        "plt.title('Vereadores eleitos no pais', loc='left', fontsize=20, color='#404040', fontweight=400)\n"
      ]
    },
    {
      "cell_type": "code",
      "execution_count": null,
      "metadata": {
        "id": "8ZIjAIJuJK1m"
      },
      "outputs": [],
      "source": []
    },
    {
      "cell_type": "markdown",
      "metadata": {
        "id": "rQ1b3hEaG2lm"
      },
      "source": [
        "## **Analise de correlação**"
      ]
    },
    {
      "cell_type": "code",
      "execution_count": 21,
      "metadata": {
        "colab": {
          "base_uri": "https://localhost:8080/",
          "height": 214
        },
        "id": "vfZ4aQQiJN2W",
        "outputId": "b06e3457-ee0c-4d06-e2de-ce6720998815"
      },
      "outputs": [
        {
          "data": {
            "text/html": [
              "<div>\n",
              "<style scoped>\n",
              "    .dataframe tbody tr th:only-of-type {\n",
              "        vertical-align: middle;\n",
              "    }\n",
              "\n",
              "    .dataframe tbody tr th {\n",
              "        vertical-align: top;\n",
              "    }\n",
              "\n",
              "    .dataframe thead th {\n",
              "        text-align: right;\n",
              "    }\n",
              "</style>\n",
              "<table border=\"1\" class=\"dataframe\">\n",
              "  <thead>\n",
              "    <tr style=\"text-align: right;\">\n",
              "      <th></th>\n",
              "      <th>Partido</th>\n",
              "      <th>Prefeitos</th>\n",
              "      <th>Vereadores</th>\n",
              "    </tr>\n",
              "  </thead>\n",
              "  <tbody>\n",
              "    <tr>\n",
              "      <th>0</th>\n",
              "      <td>MDB</td>\n",
              "      <td>787</td>\n",
              "      <td>7311</td>\n",
              "    </tr>\n",
              "    <tr>\n",
              "      <th>1</th>\n",
              "      <td>PP</td>\n",
              "      <td>687</td>\n",
              "      <td>6331</td>\n",
              "    </tr>\n",
              "    <tr>\n",
              "      <th>2</th>\n",
              "      <td>PSD</td>\n",
              "      <td>660</td>\n",
              "      <td>5676</td>\n",
              "    </tr>\n",
              "    <tr>\n",
              "      <th>3</th>\n",
              "      <td>PSDB</td>\n",
              "      <td>526</td>\n",
              "      <td>4368</td>\n",
              "    </tr>\n",
              "    <tr>\n",
              "      <th>4</th>\n",
              "      <td>DEM</td>\n",
              "      <td>467</td>\n",
              "      <td>4335</td>\n",
              "    </tr>\n",
              "  </tbody>\n",
              "</table>\n",
              "</div>"
            ],
            "text/plain": [
              "  Partido  Prefeitos  Vereadores\n",
              "0     MDB        787        7311\n",
              "1      PP        687        6331\n",
              "2     PSD        660        5676\n",
              "3    PSDB        526        4368\n",
              "4     DEM        467        4335"
            ]
          },
          "execution_count": 21,
          "metadata": {},
          "output_type": "execute_result"
        }
      ],
      "source": [
        "# Tab\n",
        "Tab_Correlacao = analise_01['Quantidades'].reset_index()\n",
        "\n",
        "# Cruzamento\n",
        "Tab_Correlacao = pd.merge( Tab_Correlacao, analise_02.reset_index(), on=['main_party'], how='inner' )\n",
        "\n",
        "# Ajustar\n",
        "Tab_Correlacao.columns = ['Partido', 'Prefeitos', 'Vereadores', '%']\n",
        "\n",
        "# Drop\n",
        "Tab_Correlacao.drop( columns=['%'], inplace=True )\n",
        "\n",
        "# Verificando\n",
        "Tab_Correlacao.head()"
      ]
    },
    {
      "cell_type": "code",
      "execution_count": 22,
      "metadata": {
        "colab": {
          "base_uri": "https://localhost:8080/",
          "height": 408
        },
        "id": "dcMZi1JAcMmG",
        "outputId": "adf171b6-dcc2-4edc-bbf4-a043ffd711fe"
      },
      "outputs": [
        {
          "data": {
            "image/png": "[encoded data removed]",
            "text/plain": [
              "<Figure size 1500x600 with 1 Axes>"
            ]
          },
          "metadata": {},
          "output_type": "display_data"
        }
      ],
      "source": [
        "sns.regplot(\n",
        "    #daods\n",
        "    x=Tab_Correlacao['Prefeitos'],\n",
        "    y=Tab_Correlacao['Vereadores'],\n",
        "    # intervalo de confiança para estimar a regressão \n",
        "    ci = 95,\n",
        "    scatter_kws={\n",
        "    'color': 'blue',\n",
        "    's': 80,\n",
        "    'alpha': 0.5\n",
        "    },\n",
        "    line_kws={\n",
        "    'color': 'green',\n",
        "    'alpha': 0.2,\n",
        "    'lw': 2\n",
        "    },\n",
        ")\n",
        "plt.title('Prefeitos X Vereadores eleitos')\n",
        "for linha in range(0, Tab_Correlacao.shape[0]):\n",
        "  plt.text(\n",
        "      Tab_Correlacao['Prefeitos'][linha]+0.8,\n",
        "      Tab_Correlacao['Vereadores'][linha],\n",
        "      Tab_Correlacao['Partido'][linha],\n",
        "      size='medium',\n",
        "      color='gray',\n",
        "      weight='semibold'\n",
        "  )"
      ]
    },
    {
      "cell_type": "markdown",
      "metadata": {
        "id": "6Og1rzNjG6J_"
      },
      "source": [
        "## **Gráfico tridimensional**"
      ]
    },
    {
      "cell_type": "code",
      "execution_count": 23,
      "metadata": {
        "colab": {
          "base_uri": "https://localhost:8080/",
          "height": 148
        },
        "id": "HrIgR9IFWbVE",
        "outputId": "d6a49a15-bcdc-4ed0-8737-d1d3ad6bbcc6"
      },
      "outputs": [
        {
          "data": {
            "text/html": [
              "<div>\n",
              "<style scoped>\n",
              "    .dataframe tbody tr th:only-of-type {\n",
              "        vertical-align: middle;\n",
              "    }\n",
              "\n",
              "    .dataframe tbody tr th {\n",
              "        vertical-align: top;\n",
              "    }\n",
              "\n",
              "    .dataframe thead th {\n",
              "        text-align: right;\n",
              "    }\n",
              "</style>\n",
              "<table border=\"1\" class=\"dataframe\">\n",
              "  <thead>\n",
              "    <tr style=\"text-align: right;\">\n",
              "      <th></th>\n",
              "      <th>Partido</th>\n",
              "      <th>Candidatos</th>\n",
              "    </tr>\n",
              "  </thead>\n",
              "  <tbody>\n",
              "    <tr>\n",
              "      <th>0</th>\n",
              "      <td>AVANTE</td>\n",
              "      <td>14228</td>\n",
              "    </tr>\n",
              "    <tr>\n",
              "      <th>1</th>\n",
              "      <td>CIDADANIA</td>\n",
              "      <td>16390</td>\n",
              "    </tr>\n",
              "    <tr>\n",
              "      <th>2</th>\n",
              "      <td>DC</td>\n",
              "      <td>4385</td>\n",
              "    </tr>\n",
              "  </tbody>\n",
              "</table>\n",
              "</div>"
            ],
            "text/plain": [
              "     Partido  Candidatos\n",
              "0     AVANTE       14228\n",
              "1  CIDADANIA       16390\n",
              "2         DC        4385"
            ]
          },
          "execution_count": 23,
          "metadata": {},
          "output_type": "execute_result"
        }
      ],
      "source": [
        "Quantidade_candidatos = Base_Dados.groupby(by=['main_party']).count().iloc[:,0:1].reset_index()\n",
        "\n",
        "Quantidade_candidatos.columns = ['Partido', 'Candidatos']\n",
        "Quantidade_candidatos.head(3)"
      ]
    },
    {
      "cell_type": "code",
      "execution_count": 24,
      "metadata": {
        "colab": {
          "base_uri": "https://localhost:8080/",
          "height": 148
        },
        "id": "t9TgpCZHWr7e",
        "outputId": "bb1014c6-160f-45bd-ed5d-5fadf54ddd23"
      },
      "outputs": [
        {
          "data": {
            "text/html": [
              "<div>\n",
              "<style scoped>\n",
              "    .dataframe tbody tr th:only-of-type {\n",
              "        vertical-align: middle;\n",
              "    }\n",
              "\n",
              "    .dataframe tbody tr th {\n",
              "        vertical-align: top;\n",
              "    }\n",
              "\n",
              "    .dataframe thead th {\n",
              "        text-align: right;\n",
              "    }\n",
              "</style>\n",
              "<table border=\"1\" class=\"dataframe\">\n",
              "  <thead>\n",
              "    <tr style=\"text-align: right;\">\n",
              "      <th></th>\n",
              "      <th>Partido</th>\n",
              "      <th>Prefeitos</th>\n",
              "      <th>Vereadores</th>\n",
              "    </tr>\n",
              "  </thead>\n",
              "  <tbody>\n",
              "    <tr>\n",
              "      <th>0</th>\n",
              "      <td>MDB</td>\n",
              "      <td>787</td>\n",
              "      <td>7311</td>\n",
              "    </tr>\n",
              "    <tr>\n",
              "      <th>1</th>\n",
              "      <td>PP</td>\n",
              "      <td>687</td>\n",
              "      <td>6331</td>\n",
              "    </tr>\n",
              "    <tr>\n",
              "      <th>2</th>\n",
              "      <td>PSD</td>\n",
              "      <td>660</td>\n",
              "      <td>5676</td>\n",
              "    </tr>\n",
              "  </tbody>\n",
              "</table>\n",
              "</div>"
            ],
            "text/plain": [
              "  Partido  Prefeitos  Vereadores\n",
              "0     MDB        787        7311\n",
              "1      PP        687        6331\n",
              "2     PSD        660        5676"
            ]
          },
          "execution_count": 24,
          "metadata": {},
          "output_type": "execute_result"
        }
      ],
      "source": [
        "Tab_Correlacao.head(3)\n",
        "#Tab_Correlacao.drop(columns=['Candidatos_y'],inplace=True )"
      ]
    },
    {
      "cell_type": "code",
      "execution_count": 25,
      "metadata": {
        "colab": {
          "base_uri": "https://localhost:8080/",
          "height": 214
        },
        "id": "3wUlObCbbEMx",
        "outputId": "018863ff-678b-4a3d-8888-0bfaf430a022"
      },
      "outputs": [
        {
          "data": {
            "text/html": [
              "<div>\n",
              "<style scoped>\n",
              "    .dataframe tbody tr th:only-of-type {\n",
              "        vertical-align: middle;\n",
              "    }\n",
              "\n",
              "    .dataframe tbody tr th {\n",
              "        vertical-align: top;\n",
              "    }\n",
              "\n",
              "    .dataframe thead th {\n",
              "        text-align: right;\n",
              "    }\n",
              "</style>\n",
              "<table border=\"1\" class=\"dataframe\">\n",
              "  <thead>\n",
              "    <tr style=\"text-align: right;\">\n",
              "      <th></th>\n",
              "      <th>Partido</th>\n",
              "      <th>Prefeitos</th>\n",
              "      <th>Vereadores</th>\n",
              "      <th>Candidatos</th>\n",
              "    </tr>\n",
              "  </thead>\n",
              "  <tbody>\n",
              "    <tr>\n",
              "      <th>0</th>\n",
              "      <td>MDB</td>\n",
              "      <td>787</td>\n",
              "      <td>7311</td>\n",
              "      <td>42169</td>\n",
              "    </tr>\n",
              "    <tr>\n",
              "      <th>1</th>\n",
              "      <td>PP</td>\n",
              "      <td>687</td>\n",
              "      <td>6331</td>\n",
              "      <td>36158</td>\n",
              "    </tr>\n",
              "    <tr>\n",
              "      <th>2</th>\n",
              "      <td>PSD</td>\n",
              "      <td>660</td>\n",
              "      <td>5676</td>\n",
              "      <td>37271</td>\n",
              "    </tr>\n",
              "    <tr>\n",
              "      <th>3</th>\n",
              "      <td>PSDB</td>\n",
              "      <td>526</td>\n",
              "      <td>4368</td>\n",
              "      <td>31011</td>\n",
              "    </tr>\n",
              "    <tr>\n",
              "      <th>4</th>\n",
              "      <td>DEM</td>\n",
              "      <td>467</td>\n",
              "      <td>4335</td>\n",
              "      <td>31212</td>\n",
              "    </tr>\n",
              "  </tbody>\n",
              "</table>\n",
              "</div>"
            ],
            "text/plain": [
              "  Partido  Prefeitos  Vereadores  Candidatos\n",
              "0     MDB        787        7311       42169\n",
              "1      PP        687        6331       36158\n",
              "2     PSD        660        5676       37271\n",
              "3    PSDB        526        4368       31011\n",
              "4     DEM        467        4335       31212"
            ]
          },
          "execution_count": 25,
          "metadata": {},
          "output_type": "execute_result"
        }
      ],
      "source": [
        "Tab_Correlacao = pd.merge(Tab_Correlacao, Quantidade_candidatos, on=['Partido'], how='inner')\n",
        "Tab_Correlacao.head()"
      ]
    },
    {
      "cell_type": "code",
      "execution_count": 26,
      "metadata": {
        "colab": {
          "base_uri": "https://localhost:8080/",
          "height": 148
        },
        "id": "fGnLg6PkcKZN",
        "outputId": "238256e2-a31a-4f21-c30a-5f263f6ef70f"
      },
      "outputs": [
        {
          "data": {
            "text/html": [
              "<div>\n",
              "<style scoped>\n",
              "    .dataframe tbody tr th:only-of-type {\n",
              "        vertical-align: middle;\n",
              "    }\n",
              "\n",
              "    .dataframe tbody tr th {\n",
              "        vertical-align: top;\n",
              "    }\n",
              "\n",
              "    .dataframe thead th {\n",
              "        text-align: right;\n",
              "    }\n",
              "</style>\n",
              "<table border=\"1\" class=\"dataframe\">\n",
              "  <thead>\n",
              "    <tr style=\"text-align: right;\">\n",
              "      <th></th>\n",
              "      <th>Prefeitos</th>\n",
              "      <th>Vereadores</th>\n",
              "      <th>Candidatos</th>\n",
              "    </tr>\n",
              "  </thead>\n",
              "  <tbody>\n",
              "    <tr>\n",
              "      <th>Prefeitos</th>\n",
              "      <td>1.000000</td>\n",
              "      <td>0.990918</td>\n",
              "      <td>0.916985</td>\n",
              "    </tr>\n",
              "    <tr>\n",
              "      <th>Vereadores</th>\n",
              "      <td>0.990918</td>\n",
              "      <td>1.000000</td>\n",
              "      <td>0.952979</td>\n",
              "    </tr>\n",
              "    <tr>\n",
              "      <th>Candidatos</th>\n",
              "      <td>0.916985</td>\n",
              "      <td>0.952979</td>\n",
              "      <td>1.000000</td>\n",
              "    </tr>\n",
              "  </tbody>\n",
              "</table>\n",
              "</div>"
            ],
            "text/plain": [
              "            Prefeitos  Vereadores  Candidatos\n",
              "Prefeitos    1.000000    0.990918    0.916985\n",
              "Vereadores   0.990918    1.000000    0.952979\n",
              "Candidatos   0.916985    0.952979    1.000000"
            ]
          },
          "execution_count": 26,
          "metadata": {},
          "output_type": "execute_result"
        }
      ],
      "source": [
        "Tab_Correlacao.corr()#correlação"
      ]
    },
    {
      "cell_type": "code",
      "execution_count": 28,
      "metadata": {
        "colab": {
          "base_uri": "https://localhost:8080/",
          "height": 485
        },
        "id": "hpUViiiCcRwt",
        "outputId": "8c6537b7-0559-4c97-8aa6-16543ccfd649"
      },
      "outputs": [
        {
          "data": {
            "image/png": "[encoded data removed]",
            "text/plain": [
              "<Figure size 1500x800 with 1 Axes>"
            ]
          },
          "metadata": {},
          "output_type": "display_data"
        }
      ],
      "source": [
        "figura= plt.figure(figsize=(15,8))\n",
        "\n",
        "#instanciar\n",
        "eixo= figura.add_subplot(111, projection='3d')\n",
        "eixo.scatter(\n",
        "    Tab_Correlacao['Prefeitos'],\n",
        "    Tab_Correlacao['Vereadores'],\n",
        "    Tab_Correlacao['Candidatos'],\n",
        "    c='black',\n",
        "    s=100  \n",
        ")\n",
        "eixo.view_init(30,185)\n",
        "#labels\n",
        "eixo.set_xlabel('Prefeitos')\n",
        "eixo.set_ylabel('Vereadores')\n",
        "eixo.set_zlabel('Candidatos')\n",
        "\n",
        "\n"
      ]
    },
    {
      "cell_type": "code",
      "execution_count": 43,
      "metadata": {
        "colab": {
          "base_uri": "https://localhost:8080/",
          "height": 542
        },
        "id": "2s3NAglyXfVq",
        "outputId": "08f669f2-5deb-4765-e975-eea746d312bd"
      },
      "outputs": [
        {
          "data": {
            "application/vnd.plotly.v1+json": {
              "config": {
                "plotlyServerURL": "https://plot.ly"
              },
              "data": [
                {
                  "hovertemplate": "Partido=MDB<br>Prefeitos=%{x}<br>Vereadores=%{y}<br>Candidatos=%{z}<extra></extra>",
                  "legendgroup": "MDB",
                  "marker": {
                    "color": "#636efa",
                    "symbol": "circle"
                  },
                  "mode": "markers",
                  "name": "MDB",
                  "scene": "scene",
                  "showlegend": true,
                  "type": "scatter3d",
                  "x": [
                    787
                  ],
                  "y": [
                    7311
                  ],
                  "z": [
                    42169
                  ]
                },
                {
                  "hovertemplate": "Partido=PP<br>Prefeitos=%{x}<br>Vereadores=%{y}<br>Candidatos=%{z}<extra></extra>",
                  "legendgroup": "PP",
                  "marker": {
                    "color": "#EF553B",
                    "symbol": "diamond"
                  },
                  "mode": "markers",
                  "name": "PP",
                  "scene": "scene",
                  "showlegend": true,
                  "type": "scatter3d",
                  "x": [
                    687
                  ],
                  "y": [
                    6331
                  ],
                  "z": [
                    36158
                  ]
                },
                {
                  "hovertemplate": "Partido=PSD<br>Prefeitos=%{x}<br>Vereadores=%{y}<br>Candidatos=%{z}<extra></extra>",
                  "legendgroup": "PSD",
                  "marker": {
                    "color": "#00cc96",
                    "symbol": "square"
                  },
                  "mode": "markers",
                  "name": "PSD",
                  "scene": "scene",
                  "showlegend": true,
                  "type": "scatter3d",
                  "x": [
                    660
                  ],
                  "y": [
                    5676
                  ],
                  "z": [
                    37271
                  ]
                },
                {
                  "hovertemplate": "Partido=PSDB<br>Prefeitos=%{x}<br>Vereadores=%{y}<br>Candidatos=%{z}<extra></extra>",
                  "legendgroup": "PSDB",
                  "marker": {
                    "color": "#ab63fa",
                    "symbol": "x"
                  },
                  "mode": "markers",
                  "name": "PSDB",
                  "scene": "scene",
                  "showlegend": true,
                  "type": "scatter3d",
                  "x": [
                    526
                  ],
                  "y": [
                    4368
                  ],
                  "z": [
                    31011
                  ]
                },
                {
                  "hovertemplate": "Partido=DEM<br>Prefeitos=%{x}<br>Vereadores=%{y}<br>Candidatos=%{z}<extra></extra>",
                  "legendgroup": "DEM",
                  "marker": {
                    "color": "#FFA15A",
                    "symbol": "cross"
                  },
                  "mode": "markers",
                  "name": "DEM",
                  "scene": "scene",
                  "showlegend": true,
                  "type": "scatter3d",
                  "x": [
                    467
                  ],
                  "y": [
                    4335
                  ],
                  "z": [
                    31212
                  ]
                },
                {
                  "hovertemplate": "Partido=PL<br>Prefeitos=%{x}<br>Vereadores=%{y}<br>Candidatos=%{z}<extra></extra>",
                  "legendgroup": "PL",
                  "marker": {
                    "color": "#19d3f3",
                    "symbol": "circle"
                  },
                  "mode": "markers",
                  "name": "PL",
                  "scene": "scene",
                  "showlegend": true,
                  "type": "scatter3d",
                  "x": [
                    345
                  ],
                  "y": [
                    3464
                  ],
                  "z": [
                    26611
                  ]
                },
                {
                  "hovertemplate": "Partido=PDT<br>Prefeitos=%{x}<br>Vereadores=%{y}<br>Candidatos=%{z}<extra></extra>",
                  "legendgroup": "PDT",
                  "marker": {
                    "color": "#FF6692",
                    "symbol": "diamond"
                  },
                  "mode": "markers",
                  "name": "PDT",
                  "scene": "scene",
                  "showlegend": true,
                  "type": "scatter3d",
                  "x": [
                    315
                  ],
                  "y": [
                    3434
                  ],
                  "z": [
                    26893
                  ]
                },
                {
                  "hovertemplate": "Partido=PSB<br>Prefeitos=%{x}<br>Vereadores=%{y}<br>Candidatos=%{z}<extra></extra>",
                  "legendgroup": "PSB",
                  "marker": {
                    "color": "#B6E880",
                    "symbol": "square"
                  },
                  "mode": "markers",
                  "name": "PSB",
                  "scene": "scene",
                  "showlegend": true,
                  "type": "scatter3d",
                  "x": [
                    258
                  ],
                  "y": [
                    3006
                  ],
                  "z": [
                    25227
                  ]
                },
                {
                  "hovertemplate": "Partido=PTB<br>Prefeitos=%{x}<br>Vereadores=%{y}<br>Candidatos=%{z}<extra></extra>",
                  "legendgroup": "PTB",
                  "marker": {
                    "color": "#FF97FF",
                    "symbol": "x"
                  },
                  "mode": "markers",
                  "name": "PTB",
                  "scene": "scene",
                  "showlegend": true,
                  "type": "scatter3d",
                  "x": [
                    214
                  ],
                  "y": [
                    2466
                  ],
                  "z": [
                    22153
                  ]
                },
                {
                  "hovertemplate": "Partido=REPUBLICANOS<br>Prefeitos=%{x}<br>Vereadores=%{y}<br>Candidatos=%{z}<extra></extra>",
                  "legendgroup": "REPUBLICANOS",
                  "marker": {
                    "color": "#FECB52",
                    "symbol": "cross"
                  },
                  "mode": "markers",
                  "name": "REPUBLICANOS",
                  "scene": "scene",
                  "showlegend": true,
                  "type": "scatter3d",
                  "x": [
                    213
                  ],
                  "y": [
                    2591
                  ],
                  "z": [
                    27124
                  ]
                },
                {
                  "hovertemplate": "Partido=PT<br>Prefeitos=%{x}<br>Vereadores=%{y}<br>Candidatos=%{z}<extra></extra>",
                  "legendgroup": "PT",
                  "marker": {
                    "color": "#636efa",
                    "symbol": "circle"
                  },
                  "mode": "markers",
                  "name": "PT",
                  "scene": "scene",
                  "showlegend": true,
                  "type": "scatter3d",
                  "x": [
                    194
                  ],
                  "y": [
                    2656
                  ],
                  "z": [
                    29283
                  ]
                },
                {
                  "hovertemplate": "Partido=CIDADANIA<br>Prefeitos=%{x}<br>Vereadores=%{y}<br>Candidatos=%{z}<extra></extra>",
                  "legendgroup": "CIDADANIA",
                  "marker": {
                    "color": "#EF553B",
                    "symbol": "diamond"
                  },
                  "mode": "markers",
                  "name": "CIDADANIA",
                  "scene": "scene",
                  "showlegend": true,
                  "type": "scatter3d",
                  "x": [
                    141
                  ],
                  "y": [
                    1583
                  ],
                  "z": [
                    16390
                  ]
                },
                {
                  "hovertemplate": "Partido=PSC<br>Prefeitos=%{x}<br>Vereadores=%{y}<br>Candidatos=%{z}<extra></extra>",
                  "legendgroup": "PSC",
                  "marker": {
                    "color": "#00cc96",
                    "symbol": "square"
                  },
                  "mode": "markers",
                  "name": "PSC",
                  "scene": "scene",
                  "showlegend": true,
                  "type": "scatter3d",
                  "x": [
                    118
                  ],
                  "y": [
                    1500
                  ],
                  "z": [
                    16938
                  ]
                },
                {
                  "hovertemplate": "Partido=PODE<br>Prefeitos=%{x}<br>Vereadores=%{y}<br>Candidatos=%{z}<extra></extra>",
                  "legendgroup": "PODE",
                  "marker": {
                    "color": "#ab63fa",
                    "symbol": "x"
                  },
                  "mode": "markers",
                  "name": "PODE",
                  "scene": "scene",
                  "showlegend": true,
                  "type": "scatter3d",
                  "x": [
                    105
                  ],
                  "y": [
                    1525
                  ],
                  "z": [
                    19339
                  ]
                },
                {
                  "hovertemplate": "Partido=SOLIDARIEDADE<br>Prefeitos=%{x}<br>Vereadores=%{y}<br>Candidatos=%{z}<extra></extra>",
                  "legendgroup": "SOLIDARIEDADE",
                  "marker": {
                    "color": "#FFA15A",
                    "symbol": "cross"
                  },
                  "mode": "markers",
                  "name": "SOLIDARIEDADE",
                  "scene": "scene",
                  "showlegend": true,
                  "type": "scatter3d",
                  "x": [
                    95
                  ],
                  "y": [
                    1343
                  ],
                  "z": [
                    16017
                  ]
                },
                {
                  "hovertemplate": "Partido=PSL<br>Prefeitos=%{x}<br>Vereadores=%{y}<br>Candidatos=%{z}<extra></extra>",
                  "legendgroup": "PSL",
                  "marker": {
                    "color": "#19d3f3",
                    "symbol": "circle"
                  },
                  "mode": "markers",
                  "name": "PSL",
                  "scene": "scene",
                  "showlegend": true,
                  "type": "scatter3d",
                  "x": [
                    92
                  ],
                  "y": [
                    1203
                  ],
                  "z": [
                    20459
                  ]
                },
                {
                  "hovertemplate": "Partido=AVANTE<br>Prefeitos=%{x}<br>Vereadores=%{y}<br>Candidatos=%{z}<extra></extra>",
                  "legendgroup": "AVANTE",
                  "marker": {
                    "color": "#FF6692",
                    "symbol": "diamond"
                  },
                  "mode": "markers",
                  "name": "AVANTE",
                  "scene": "scene",
                  "showlegend": true,
                  "type": "scatter3d",
                  "x": [
                    82
                  ],
                  "y": [
                    1046
                  ],
                  "z": [
                    14228
                  ]
                },
                {
                  "hovertemplate": "Partido=PATRIOTA<br>Prefeitos=%{x}<br>Vereadores=%{y}<br>Candidatos=%{z}<extra></extra>",
                  "legendgroup": "PATRIOTA",
                  "marker": {
                    "color": "#B6E880",
                    "symbol": "square"
                  },
                  "mode": "markers",
                  "name": "PATRIOTA",
                  "scene": "scene",
                  "showlegend": true,
                  "type": "scatter3d",
                  "x": [
                    50
                  ],
                  "y": [
                    719
                  ],
                  "z": [
                    13267
                  ]
                },
                {
                  "hovertemplate": "Partido=PC<br>Prefeitos=%{x}<br>Vereadores=%{y}<br>Candidatos=%{z}<extra></extra>",
                  "legendgroup": "PC",
                  "marker": {
                    "color": "#FF97FF",
                    "symbol": "x"
                  },
                  "mode": "markers",
                  "name": "PC",
                  "scene": "scene",
                  "showlegend": true,
                  "type": "scatter3d",
                  "x": [
                    47
                  ],
                  "y": [
                    693
                  ],
                  "z": [
                    9872
                  ]
                },
                {
                  "hovertemplate": "Partido=PV<br>Prefeitos=%{x}<br>Vereadores=%{y}<br>Candidatos=%{z}<extra></extra>",
                  "legendgroup": "PV",
                  "marker": {
                    "color": "#FECB52",
                    "symbol": "cross"
                  },
                  "mode": "markers",
                  "name": "PV",
                  "scene": "scene",
                  "showlegend": true,
                  "type": "scatter3d",
                  "x": [
                    46
                  ],
                  "y": [
                    805
                  ],
                  "z": [
                    11415
                  ]
                },
                {
                  "hovertemplate": "Partido=PROS<br>Prefeitos=%{x}<br>Vereadores=%{y}<br>Candidatos=%{z}<extra></extra>",
                  "legendgroup": "PROS",
                  "marker": {
                    "color": "#636efa",
                    "symbol": "circle"
                  },
                  "mode": "markers",
                  "name": "PROS",
                  "scene": "scene",
                  "showlegend": true,
                  "type": "scatter3d",
                  "x": [
                    42
                  ],
                  "y": [
                    755
                  ],
                  "z": [
                    10976
                  ]
                },
                {
                  "hovertemplate": "Partido=PMN<br>Prefeitos=%{x}<br>Vereadores=%{y}<br>Candidatos=%{z}<extra></extra>",
                  "legendgroup": "PMN",
                  "marker": {
                    "color": "#EF553B",
                    "symbol": "diamond"
                  },
                  "mode": "markers",
                  "name": "PMN",
                  "scene": "scene",
                  "showlegend": true,
                  "type": "scatter3d",
                  "x": [
                    13
                  ],
                  "y": [
                    199
                  ],
                  "z": [
                    4641
                  ]
                },
                {
                  "hovertemplate": "Partido=PRTB<br>Prefeitos=%{x}<br>Vereadores=%{y}<br>Candidatos=%{z}<extra></extra>",
                  "legendgroup": "PRTB",
                  "marker": {
                    "color": "#00cc96",
                    "symbol": "square"
                  },
                  "mode": "markers",
                  "name": "PRTB",
                  "scene": "scene",
                  "showlegend": true,
                  "type": "scatter3d",
                  "x": [
                    6
                  ],
                  "y": [
                    217
                  ],
                  "z": [
                    7177
                  ]
                },
                {
                  "hovertemplate": "Partido=PSOL<br>Prefeitos=%{x}<br>Vereadores=%{y}<br>Candidatos=%{z}<extra></extra>",
                  "legendgroup": "PSOL",
                  "marker": {
                    "color": "#ab63fa",
                    "symbol": "x"
                  },
                  "mode": "markers",
                  "name": "PSOL",
                  "scene": "scene",
                  "showlegend": true,
                  "type": "scatter3d",
                  "x": [
                    6
                  ],
                  "y": [
                    86
                  ],
                  "z": [
                    4148
                  ]
                },
                {
                  "hovertemplate": "Partido=REDE<br>Prefeitos=%{x}<br>Vereadores=%{y}<br>Candidatos=%{z}<extra></extra>",
                  "legendgroup": "REDE",
                  "marker": {
                    "color": "#FFA15A",
                    "symbol": "cross"
                  },
                  "mode": "markers",
                  "name": "REDE",
                  "scene": "scene",
                  "showlegend": true,
                  "type": "scatter3d",
                  "x": [
                    6
                  ],
                  "y": [
                    144
                  ],
                  "z": [
                    4485
                  ]
                },
                {
                  "hovertemplate": "Partido=PMB<br>Prefeitos=%{x}<br>Vereadores=%{y}<br>Candidatos=%{z}<extra></extra>",
                  "legendgroup": "PMB",
                  "marker": {
                    "color": "#19d3f3",
                    "symbol": "circle"
                  },
                  "mode": "markers",
                  "name": "PMB",
                  "scene": "scene",
                  "showlegend": true,
                  "type": "scatter3d",
                  "x": [
                    1
                  ],
                  "y": [
                    44
                  ],
                  "z": [
                    2580
                  ]
                },
                {
                  "hovertemplate": "Partido=NOVO<br>Prefeitos=%{x}<br>Vereadores=%{y}<br>Candidatos=%{z}<extra></extra>",
                  "legendgroup": "NOVO",
                  "marker": {
                    "color": "#FF6692",
                    "symbol": "diamond"
                  },
                  "mode": "markers",
                  "name": "NOVO",
                  "scene": "scene",
                  "showlegend": true,
                  "type": "scatter3d",
                  "x": [
                    1
                  ],
                  "y": [
                    29
                  ],
                  "z": [
                    583
                  ]
                },
                {
                  "hovertemplate": "Partido=PTC<br>Prefeitos=%{x}<br>Vereadores=%{y}<br>Candidatos=%{z}<extra></extra>",
                  "legendgroup": "PTC",
                  "marker": {
                    "color": "#B6E880",
                    "symbol": "square"
                  },
                  "mode": "markers",
                  "name": "PTC",
                  "scene": "scene",
                  "showlegend": true,
                  "type": "scatter3d",
                  "x": [
                    1
                  ],
                  "y": [
                    216
                  ],
                  "z": [
                    6240
                  ]
                },
                {
                  "hovertemplate": "Partido=DC<br>Prefeitos=%{x}<br>Vereadores=%{y}<br>Candidatos=%{z}<extra></extra>",
                  "legendgroup": "DC",
                  "marker": {
                    "color": "#FF97FF",
                    "symbol": "x"
                  },
                  "mode": "markers",
                  "name": "DC",
                  "scene": "scene",
                  "showlegend": true,
                  "type": "scatter3d",
                  "x": [
                    1
                  ],
                  "y": [
                    121
                  ],
                  "z": [
                    4385
                  ]
                }
              ],
              "layout": {
                "legend": {
                  "title": {
                    "text": "Partido"
                  },
                  "tracegroupgap": 0
                },
                "margin": {
                  "t": 60
                },
                "scene": {
                  "domain": {
                    "x": [
                      0,
                      1
                    ],
                    "y": [
                      0,
                      1
                    ]
                  },
                  "xaxis": {
                    "title": {
                      "text": "Prefeitos"
                    }
                  },
                  "yaxis": {
                    "title": {
                      "text": "Vereadores"
                    }
                  },
                  "zaxis": {
                    "title": {
                      "text": "Candidatos"
                    }
                  }
                },
                "template": {
                  "data": {
                    "bar": [
                      {
                        "error_x": {
                          "color": "#2a3f5f"
                        },
                        "error_y": {
                          "color": "#2a3f5f"
                        },
                        "marker": {
                          "line": {
                            "color": "#E5ECF6",
                            "width": 0.5
                          },
                          "pattern": {
                            "fillmode": "overlay",
                            "size": 10,
                            "solidity": 0.2
                          }
                        },
                        "type": "bar"
                      }
                    ],
                    "barpolar": [
                      {
                        "marker": {
                          "line": {
                            "color": "#E5ECF6",
                            "width": 0.5
                          },
                          "pattern": {
                            "fillmode": "overlay",
                            "size": 10,
                            "solidity": 0.2
                          }
                        },
                        "type": "barpolar"
                      }
                    ],
                    "carpet": [
                      {
                        "aaxis": {
                          "endlinecolor": "#2a3f5f",
                          "gridcolor": "white",
                          "linecolor": "white",
                          "minorgridcolor": "white",
                          "startlinecolor": "#2a3f5f"
                        },
                        "baxis": {
                          "endlinecolor": "#2a3f5f",
                          "gridcolor": "white",
                          "linecolor": "white",
                          "minorgridcolor": "white",
                          "startlinecolor": "#2a3f5f"
                        },
                        "type": "carpet"
                      }
                    ],
                    "choropleth": [
                      {
                        "colorbar": {
                          "outlinewidth": 0,
                          "ticks": ""
                        },
                        "type": "choropleth"
                      }
                    ],
                    "contour": [
                      {
                        "colorbar": {
                          "outlinewidth": 0,
                          "ticks": ""
                        },
                        "colorscale": [
                          [
                            0,
                            "#0d0887"
                          ],
                          [
                            0.1111111111111111,
                            "#46039f"
                          ],
                          [
                            0.2222222222222222,
                            "#7201a8"
                          ],
                          [
                            0.3333333333333333,
                            "#9c179e"
                          ],
                          [
                            0.4444444444444444,
                            "#bd3786"
                          ],
                          [
                            0.5555555555555556,
                            "#d8576b"
                          ],
                          [
                            0.6666666666666666,
                            "#ed7953"
                          ],
                          [
                            0.7777777777777778,
                            "#fb9f3a"
                          ],
                          [
                            0.8888888888888888,
                            "#fdca26"
                          ],
                          [
                            1,
                            "#f0f921"
                          ]
                        ],
                        "type": "contour"
                      }
                    ],
                    "contourcarpet": [
                      {
                        "colorbar": {
                          "outlinewidth": 0,
                          "ticks": ""
                        },
                        "type": "contourcarpet"
                      }
                    ],
                    "heatmap": [
                      {
                        "colorbar": {
                          "outlinewidth": 0,
                          "ticks": ""
                        },
                        "colorscale": [
                          [
                            0,
                            "#0d0887"
                          ],
                          [
                            0.1111111111111111,
                            "#46039f"
                          ],
                          [
                            0.2222222222222222,
                            "#7201a8"
                          ],
                          [
                            0.3333333333333333,
                            "#9c179e"
                          ],
                          [
                            0.4444444444444444,
                            "#bd3786"
                          ],
                          [
                            0.5555555555555556,
                            "#d8576b"
                          ],
                          [
                            0.6666666666666666,
                            "#ed7953"
                          ],
                          [
                            0.7777777777777778,
                            "#fb9f3a"
                          ],
                          [
                            0.8888888888888888,
                            "#fdca26"
                          ],
                          [
                            1,
                            "#f0f921"
                          ]
                        ],
                        "type": "heatmap"
                      }
                    ],
                    "heatmapgl": [
                      {
                        "colorbar": {
                          "outlinewidth": 0,
                          "ticks": ""
                        },
                        "colorscale": [
                          [
                            0,
                            "#0d0887"
                          ],
                          [
                            0.1111111111111111,
                            "#46039f"
                          ],
                          [
                            0.2222222222222222,
                            "#7201a8"
                          ],
                          [
                            0.3333333333333333,
                            "#9c179e"
                          ],
                          [
                            0.4444444444444444,
                            "#bd3786"
                          ],
                          [
                            0.5555555555555556,
                            "#d8576b"
                          ],
                          [
                            0.6666666666666666,
                            "#ed7953"
                          ],
                          [
                            0.7777777777777778,
                            "#fb9f3a"
                          ],
                          [
                            0.8888888888888888,
                            "#fdca26"
                          ],
                          [
                            1,
                            "#f0f921"
                          ]
                        ],
                        "type": "heatmapgl"
                      }
                    ],
                    "histogram": [
                      {
                        "marker": {
                          "pattern": {
                            "fillmode": "overlay",
                            "size": 10,
                            "solidity": 0.2
                          }
                        },
                        "type": "histogram"
                      }
                    ],
                    "histogram2d": [
                      {
                        "colorbar": {
                          "outlinewidth": 0,
                          "ticks": ""
                        },
                        "colorscale": [
                          [
                            0,
                            "#0d0887"
                          ],
                          [
                            0.1111111111111111,
                            "#46039f"
                          ],
                          [
                            0.2222222222222222,
                            "#7201a8"
                          ],
                          [
                            0.3333333333333333,
                            "#9c179e"
                          ],
                          [
                            0.4444444444444444,
                            "#bd3786"
                          ],
                          [
                            0.5555555555555556,
                            "#d8576b"
                          ],
                          [
                            0.6666666666666666,
                            "#ed7953"
                          ],
                          [
                            0.7777777777777778,
                            "#fb9f3a"
                          ],
                          [
                            0.8888888888888888,
                            "#fdca26"
                          ],
                          [
                            1,
                            "#f0f921"
                          ]
                        ],
                        "type": "histogram2d"
                      }
                    ],
                    "histogram2dcontour": [
                      {
                        "colorbar": {
                          "outlinewidth": 0,
                          "ticks": ""
                        },
                        "colorscale": [
                          [
                            0,
                            "#0d0887"
                          ],
                          [
                            0.1111111111111111,
                            "#46039f"
                          ],
                          [
                            0.2222222222222222,
                            "#7201a8"
                          ],
                          [
                            0.3333333333333333,
                            "#9c179e"
                          ],
                          [
                            0.4444444444444444,
                            "#bd3786"
                          ],
                          [
                            0.5555555555555556,
                            "#d8576b"
                          ],
                          [
                            0.6666666666666666,
                            "#ed7953"
                          ],
                          [
                            0.7777777777777778,
                            "#fb9f3a"
                          ],
                          [
                            0.8888888888888888,
                            "#fdca26"
                          ],
                          [
                            1,
                            "#f0f921"
                          ]
                        ],
                        "type": "histogram2dcontour"
                      }
                    ],
                    "mesh3d": [
                      {
                        "colorbar": {
                          "outlinewidth": 0,
                          "ticks": ""
                        },
                        "type": "mesh3d"
                      }
                    ],
                    "parcoords": [
                      {
                        "line": {
                          "colorbar": {
                            "outlinewidth": 0,
                            "ticks": ""
                          }
                        },
                        "type": "parcoords"
                      }
                    ],
                    "pie": [
                      {
                        "automargin": true,
                        "type": "pie"
                      }
                    ],
                    "scatter": [
                      {
                        "fillpattern": {
                          "fillmode": "overlay",
                          "size": 10,
                          "solidity": 0.2
                        },
                        "type": "scatter"
                      }
                    ],
                    "scatter3d": [
                      {
                        "line": {
                          "colorbar": {
                            "outlinewidth": 0,
                            "ticks": ""
                          }
                        },
                        "marker": {
                          "colorbar": {
                            "outlinewidth": 0,
                            "ticks": ""
                          }
                        },
                        "type": "scatter3d"
                      }
                    ],
                    "scattercarpet": [
                      {
                        "marker": {
                          "colorbar": {
                            "outlinewidth": 0,
                            "ticks": ""
                          }
                        },
                        "type": "scattercarpet"
                      }
                    ],
                    "scattergeo": [
                      {
                        "marker": {
                          "colorbar": {
                            "outlinewidth": 0,
                            "ticks": ""
                          }
                        },
                        "type": "scattergeo"
                      }
                    ],
                    "scattergl": [
                      {
                        "marker": {
                          "colorbar": {
                            "outlinewidth": 0,
                            "ticks": ""
                          }
                        },
                        "type": "scattergl"
                      }
                    ],
                    "scattermapbox": [
                      {
                        "marker": {
                          "colorbar": {
                            "outlinewidth": 0,
                            "ticks": ""
                          }
                        },
                        "type": "scattermapbox"
                      }
                    ],
                    "scatterpolar": [
                      {
                        "marker": {
                          "colorbar": {
                            "outlinewidth": 0,
                            "ticks": ""
                          }
                        },
                        "type": "scatterpolar"
                      }
                    ],
                    "scatterpolargl": [
                      {
                        "marker": {
                          "colorbar": {
                            "outlinewidth": 0,
                            "ticks": ""
                          }
                        },
                        "type": "scatterpolargl"
                      }
                    ],
                    "scatterternary": [
                      {
                        "marker": {
                          "colorbar": {
                            "outlinewidth": 0,
                            "ticks": ""
                          }
                        },
                        "type": "scatterternary"
                      }
                    ],
                    "surface": [
                      {
                        "colorbar": {
                          "outlinewidth": 0,
                          "ticks": ""
                        },
                        "colorscale": [
                          [
                            0,
                            "#0d0887"
                          ],
                          [
                            0.1111111111111111,
                            "#46039f"
                          ],
                          [
                            0.2222222222222222,
                            "#7201a8"
                          ],
                          [
                            0.3333333333333333,
                            "#9c179e"
                          ],
                          [
                            0.4444444444444444,
                            "#bd3786"
                          ],
                          [
                            0.5555555555555556,
                            "#d8576b"
                          ],
                          [
                            0.6666666666666666,
                            "#ed7953"
                          ],
                          [
                            0.7777777777777778,
                            "#fb9f3a"
                          ],
                          [
                            0.8888888888888888,
                            "#fdca26"
                          ],
                          [
                            1,
                            "#f0f921"
                          ]
                        ],
                        "type": "surface"
                      }
                    ],
                    "table": [
                      {
                        "cells": {
                          "fill": {
                            "color": "#EBF0F8"
                          },
                          "line": {
                            "color": "white"
                          }
                        },
                        "header": {
                          "fill": {
                            "color": "#C8D4E3"
                          },
                          "line": {
                            "color": "white"
                          }
                        },
                        "type": "table"
                      }
                    ]
                  },
                  "layout": {
                    "annotationdefaults": {
                      "arrowcolor": "#2a3f5f",
                      "arrowhead": 0,
                      "arrowwidth": 1
                    },
                    "autotypenumbers": "strict",
                    "coloraxis": {
                      "colorbar": {
                        "outlinewidth": 0,
                        "ticks": ""
                      }
                    },
                    "colorscale": {
                      "diverging": [
                        [
                          0,
                          "#8e0152"
                        ],
                        [
                          0.1,
                          "#c51b7d"
                        ],
                        [
                          0.2,
                          "#de77ae"
                        ],
                        [
                          0.3,
                          "#f1b6da"
                        ],
                        [
                          0.4,
                          "#fde0ef"
                        ],
                        [
                          0.5,
                          "#f7f7f7"
                        ],
                        [
                          0.6,
                          "#e6f5d0"
                        ],
                        [
                          0.7,
                          "#b8e186"
                        ],
                        [
                          0.8,
                          "#7fbc41"
                        ],
                        [
                          0.9,
                          "#4d9221"
                        ],
                        [
                          1,
                          "#276419"
                        ]
                      ],
                      "sequential": [
                        [
                          0,
                          "#0d0887"
                        ],
                        [
                          0.1111111111111111,
                          "#46039f"
                        ],
                        [
                          0.2222222222222222,
                          "#7201a8"
                        ],
                        [
                          0.3333333333333333,
                          "#9c179e"
                        ],
                        [
                          0.4444444444444444,
                          "#bd3786"
                        ],
                        [
                          0.5555555555555556,
                          "#d8576b"
                        ],
                        [
                          0.6666666666666666,
                          "#ed7953"
                        ],
                        [
                          0.7777777777777778,
                          "#fb9f3a"
                        ],
                        [
                          0.8888888888888888,
                          "#fdca26"
                        ],
                        [
                          1,
                          "#f0f921"
                        ]
                      ],
                      "sequentialminus": [
                        [
                          0,
                          "#0d0887"
                        ],
                        [
                          0.1111111111111111,
                          "#46039f"
                        ],
                        [
                          0.2222222222222222,
                          "#7201a8"
                        ],
                        [
                          0.3333333333333333,
                          "#9c179e"
                        ],
                        [
                          0.4444444444444444,
                          "#bd3786"
                        ],
                        [
                          0.5555555555555556,
                          "#d8576b"
                        ],
                        [
                          0.6666666666666666,
                          "#ed7953"
                        ],
                        [
                          0.7777777777777778,
                          "#fb9f3a"
                        ],
                        [
                          0.8888888888888888,
                          "#fdca26"
                        ],
                        [
                          1,
                          "#f0f921"
                        ]
                      ]
                    },
                    "colorway": [
                      "#636efa",
                      "#EF553B",
                      "#00cc96",
                      "#ab63fa",
                      "#FFA15A",
                      "#19d3f3",
                      "#FF6692",
                      "#B6E880",
                      "#FF97FF",
                      "#FECB52"
                    ],
                    "font": {
                      "color": "#2a3f5f"
                    },
                    "geo": {
                      "bgcolor": "white",
                      "lakecolor": "white",
                      "landcolor": "#E5ECF6",
                      "showlakes": true,
                      "showland": true,
                      "subunitcolor": "white"
                    },
                    "hoverlabel": {
                      "align": "left"
                    },
                    "hovermode": "closest",
                    "mapbox": {
                      "style": "light"
                    },
                    "paper_bgcolor": "white",
                    "plot_bgcolor": "#E5ECF6",
                    "polar": {
                      "angularaxis": {
                        "gridcolor": "white",
                        "linecolor": "white",
                        "ticks": ""
                      },
                      "bgcolor": "#E5ECF6",
                      "radialaxis": {
                        "gridcolor": "white",
                        "linecolor": "white",
                        "ticks": ""
                      }
                    },
                    "scene": {
                      "xaxis": {
                        "backgroundcolor": "#E5ECF6",
                        "gridcolor": "white",
                        "gridwidth": 2,
                        "linecolor": "white",
                        "showbackground": true,
                        "ticks": "",
                        "zerolinecolor": "white"
                      },
                      "yaxis": {
                        "backgroundcolor": "#E5ECF6",
                        "gridcolor": "white",
                        "gridwidth": 2,
                        "linecolor": "white",
                        "showbackground": true,
                        "ticks": "",
                        "zerolinecolor": "white"
                      },
                      "zaxis": {
                        "backgroundcolor": "#E5ECF6",
                        "gridcolor": "white",
                        "gridwidth": 2,
                        "linecolor": "white",
                        "showbackground": true,
                        "ticks": "",
                        "zerolinecolor": "white"
                      }
                    },
                    "shapedefaults": {
                      "line": {
                        "color": "#2a3f5f"
                      }
                    },
                    "ternary": {
                      "aaxis": {
                        "gridcolor": "white",
                        "linecolor": "white",
                        "ticks": ""
                      },
                      "baxis": {
                        "gridcolor": "white",
                        "linecolor": "white",
                        "ticks": ""
                      },
                      "bgcolor": "#E5ECF6",
                      "caxis": {
                        "gridcolor": "white",
                        "linecolor": "white",
                        "ticks": ""
                      }
                    },
                    "title": {
                      "x": 0.05
                    },
                    "xaxis": {
                      "automargin": true,
                      "gridcolor": "white",
                      "linecolor": "white",
                      "ticks": "",
                      "title": {
                        "standoff": 15
                      },
                      "zerolinecolor": "white",
                      "zerolinewidth": 2
                    },
                    "yaxis": {
                      "automargin": true,
                      "gridcolor": "white",
                      "linecolor": "white",
                      "ticks": "",
                      "title": {
                        "standoff": 15
                      },
                      "zerolinecolor": "white",
                      "zerolinewidth": 2
                    }
                  }
                }
              }
            }
          },
          "metadata": {},
          "output_type": "display_data"
        }
      ],
      "source": [
        "figura = px.scatter_3d(\n",
        "    Tab_Correlacao,\n",
        "    x='Prefeitos',\n",
        "    y='Vereadores',\n",
        "    z='Candidatos',\n",
        "    color='Partido',\n",
        "    symbol='Partido'\n",
        "\n",
        "   \n",
        "   \n",
        ")\n",
        "\n",
        "figura.show()\n"
      ]
    }
  ],
  "metadata": {
    "colab": {
      "provenance": []
    },
    "kernelspec": {
      "display_name": "Python 3",
      "language": "python",
      "name": "python3"
    },
    "language_info": {
      "codemirror_mode": {
        "name": "ipython",
        "version": 3
      },
      "file_extension": ".py",
      "mimetype": "text/x-python",
      "name": "python",
      "nbconvert_exporter": "python",
      "pygments_lexer": "ipython3",
      "version": "3.10.6"
    },
    "vscode": {
      "interpreter": {
        "hash": "916dbcbb3f70747c44a77c7bcd40155683ae19c65e1c03b4aa3499c5328201f1"
      }
    }
  },
  "nbformat": 4,
  "nbformat_minor": 0
}
